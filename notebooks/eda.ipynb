{
 "cells": [
  {
   "cell_type": "code",
   "execution_count": 2,
   "metadata": {},
   "outputs": [],
   "source": [
    "import pathlib\n",
    "\n",
    "import dataset_generation\n",
    "\n",
    "import pandas as pd\n",
    "import pickle\n",
    "from collections import Counter\n",
    "import itertools\n",
    "from sklearn.feature_extraction.text import CountVectorizer\n",
    "from scipy.spatial.distance import cosine\n",
    "from matplotlib import cm\n",
    "import matplotlib.pyplot as plt\n",
    "from sklearn.decomposition import PCA\n",
    "import numpy as np\n",
    "import sklearn\n",
    "from sklearn.feature_extraction.text import TfidfVectorizer\n",
    "from itertools import groupby"
   ]
  },
  {
   "cell_type": "markdown",
   "metadata": {},
   "source": [
    "# Functions"
   ]
  },
  {
   "cell_type": "code",
   "execution_count": 1,
   "metadata": {},
   "outputs": [],
   "source": [
    "def load_pickle(path):\n",
    "    with open(path, \"rb\") as fh:\n",
    "        data = pickle.load(fh)\n",
    "    return data    "
   ]
  },
  {
   "cell_type": "code",
   "execution_count": 11,
   "metadata": {},
   "outputs": [],
   "source": [
    "def splitter(text):\n",
    "    return ','.join(''.join(group) for key, group in groupby(text)) "
   ]
  },
  {
   "cell_type": "code",
   "execution_count": 36,
   "metadata": {},
   "outputs": [],
   "source": [
    "def top_feats_in_doc(Xtr, features, row_id, top_n=20):\n",
    "    ''' Top tfidf features in specific document (matrix row) '''\n",
    "    row = np.squeeze(Xtr[row_id].toarray()) #Remove single-dimensional entries from the shape of an array. seleziono solo una porzione della matice degli score che è un vettore colonna---> così diventa una riga\n",
    "    return top_tfidf_feats(row, features, top_n)"
   ]
  },
  {
   "cell_type": "code",
   "execution_count": 37,
   "metadata": {},
   "outputs": [],
   "source": [
    "def top_tfidf_feats(row, features, top_n):\n",
    "    ''' Get top n tfidf values and return them with their corresponding feature names.'''\n",
    "    topn_ids = np.argsort(row)[::-1][:top_n]#column id\n",
    "    top_feats = [(features[i], row[i]) for i in topn_ids]\n",
    "    df = pd.DataFrame(top_feats)\n",
    "    df.columns = ['feature', 'tfidf']\n",
    "    return df"
   ]
  },
  {
   "cell_type": "code",
   "execution_count": 44,
   "metadata": {},
   "outputs": [],
   "source": [
    "def plot_PCA(Xtr_embedded):\n",
    "    colors = cm.jet(np.linspace(0, 1,len(labels)))\n",
    "    fig, ax = plt.subplots(figsize=(5,5))\n",
    "\n",
    "    for x, y, c in zip([x[0] for x in Xtr_embedded], [x[1] for x in Xtr_embedded], colors):\n",
    "        plt.scatter(x, y, color=c)\n",
    "\n",
    "    for i, txt in enumerate(labels):\n",
    "        ax.annotate(txt, ([x[0] for x in Xtr_embedded][i],[x[1] for x in Xtr_embedded][i])) "
   ]
  },
  {
   "cell_type": "code",
   "execution_count": 49,
   "metadata": {},
   "outputs": [],
   "source": [
    "def text_similarity(source, target):  \n",
    "    # calculate the cosine similarity comparing the vector of documents with the vector of each text\n",
    "    source_vec = source\n",
    "    \n",
    "    target_vec = v.transform([target])[0].todense()\n",
    "    \n",
    "    return 1 - cosine(source_vec, target_vec)"
   ]
  },
  {
   "cell_type": "code",
   "execution_count": 47,
   "metadata": {},
   "outputs": [],
   "source": [
    "#check the similarity between vocabularies\n",
    "def cosine_similarity_preprocessing(seq_by_encoding,Xtr, label_column):\n",
    "    labels=list(itertools.chain.from_iterable(set(label_column)))\n",
    "    results_test = []\n",
    "    class_combination=[]\n",
    "\n",
    "    cos_similarity=pd.DataFrame()\n",
    "\n",
    "    for i in range(len(seq_by_encoding)):\n",
    "        source = np.squeeze(Xtr[i].toarray())\n",
    "        for j in range(len(seq_by_encoding)):\n",
    "            target = seq_by_encoding[j]\n",
    "            class_combination.append(labels[i]+'|'+labels[j])\n",
    "            results_test.append(text_similarity(source, target))\n",
    "    cos_similarity['labels']=  class_combination\n",
    "    cos_similarity['score']=  results_test\n",
    "    return cos_similarity"
   ]
  },
  {
   "cell_type": "code",
   "execution_count": 52,
   "metadata": {},
   "outputs": [],
   "source": [
    "def chunkstring(string, length):\n",
    "    return (string[0+i:length+i] for i in range(0, len(string), length))"
   ]
  },
  {
   "cell_type": "code",
   "execution_count": 57,
   "metadata": {},
   "outputs": [],
   "source": [
    "def lexical_density(x):\n",
    "    return x['vocabulary'] / x['word_count']"
   ]
  },
  {
   "cell_type": "code",
   "execution_count": 66,
   "metadata": {},
   "outputs": [],
   "source": [
    "def get_tfidf(seq_by_encoding, Xtr, features, n=20):\n",
    "    rows=list()\n",
    "    tfidf=list()\n",
    "    scores=list()\n",
    "    #apply tfidf for each class\n",
    "    for row_id in range(len(seq_by_encoding)):\n",
    "        rows.append(row_id)\n",
    "        name=top_feats_in_doc(Xtr, features, row_id, top_n=20)\n",
    "\n",
    "        lista_features=name[\"feature\"].tolist()\n",
    "        lista_scores=name[\"tfidf\"].tolist()\n",
    "\n",
    "        tfidf.append(lista_features)\n",
    "        scores.append(lista_scores)\n",
    "    df_tfidf=pd.DataFrame({\"encoding\":labels,\"tfidf\":tfidf,\"scores\":scores})\n",
    "    return df_tfidf"
   ]
  },
  {
   "cell_type": "code",
   "execution_count": 7,
   "metadata": {},
   "outputs": [],
   "source": [
    "def get_top_n_words(corpus, n, ngram_range):\n",
    "    vec = CountVectorizer(ngram_range=ngram_range).fit(corpus)\n",
    "    bag_of_words = vec.transform(corpus)\n",
    "    sum_words = bag_of_words.sum(axis=0) \n",
    "    words_freq = [(word, sum_words[0, idx]) for word, idx in vec.vocabulary_.items()]\n",
    "    words_freq =sorted(words_freq, key = lambda x: x[1], reverse=True)\n",
    "    return words_freq[:n]"
   ]
  },
  {
   "cell_type": "markdown",
   "metadata": {},
   "source": [
    "# Load data"
   ]
  },
  {
   "cell_type": "markdown",
   "metadata": {},
   "source": [
    "sequence = original genomic sequence <br>\n",
    "encoding = encoded genomic sequence <br>\n",
    "The possible encodings for each base are as follows: <br>\n",
    "U - UTR <br>\n",
    "S - Start codon base <br>\n",
    "E - Stop codon base <br>\n",
    "C - Any non-start/stop codon base that is part of the coding sequence <br>\n",
    "J - Slice junction donor/acceptor base <br>\n",
    "I - Intron <br>\n",
    "O - Intergenic, so not part of any of the above <br>"
   ]
  },
  {
   "cell_type": "code",
   "execution_count": 3,
   "metadata": {},
   "outputs": [],
   "source": [
    "data_directory = pathlib.Path(\"data\")"
   ]
  },
  {
   "cell_type": "code",
   "execution_count": 4,
   "metadata": {},
   "outputs": [
    {
     "name": "stdout",
     "output_type": "stream",
     "text": [
      "loading data...\n",
      "data loaded\n"
     ]
    }
   ],
   "source": [
    "data = dataset_generation.load_data()"
   ]
  },
  {
   "cell_type": "code",
   "execution_count": null,
   "metadata": {},
   "outputs": [],
   "source": [
    "\"\"\"\n",
    "oload_pickle you need to install pickle5\n",
    "!pip3 install pickle5\n",
    "\n",
    "import pickle5 as pickle\n",
    "with open('/content/drive/MyDrive/gene_calling/sequences_dataframe.pickle', \"rb\") as fh:\n",
    "  data = pickle.load(fh)\n",
    "\"\"\""
   ]
  },
  {
   "cell_type": "code",
   "execution_count": 3,
   "metadata": {},
   "outputs": [],
   "source": [
    "data=load_pickle(\"data/sequences_dataframe.pickle\")"
   ]
  },
  {
   "cell_type": "code",
   "execution_count": 5,
   "metadata": {},
   "outputs": [
    {
     "data": {
      "text/html": [
       "<div>\n",
       "<style scoped>\n",
       "    .dataframe tbody tr th:only-of-type {\n",
       "        vertical-align: middle;\n",
       "    }\n",
       "\n",
       "    .dataframe tbody tr th {\n",
       "        vertical-align: top;\n",
       "    }\n",
       "\n",
       "    .dataframe thead th {\n",
       "        text-align: right;\n",
       "    }\n",
       "</style>\n",
       "<table border=\"1\" class=\"dataframe\">\n",
       "  <thead>\n",
       "    <tr style=\"text-align: right;\">\n",
       "      <th></th>\n",
       "      <th>description</th>\n",
       "      <th>sequence</th>\n",
       "      <th>encoding</th>\n",
       "    </tr>\n",
       "  </thead>\n",
       "  <tbody>\n",
       "    <tr>\n",
       "      <th>0</th>\n",
       "      <td>1</td>\n",
       "      <td>GGATCCGTTCGAAACAGGTTAGCCTACTATAATATAAGGATTGGAT...</td>\n",
       "      <td>OOOOOOOOOOOOOOOOOOOOOOOOOOOOOOOOOOOOOOOOOOOOOO...</td>\n",
       "    </tr>\n",
       "    <tr>\n",
       "      <th>1</th>\n",
       "      <td>2</td>\n",
       "      <td>ATGGGCGAACGACGGGAATTGAACCCGCGATGGTGAATTCACAATC...</td>\n",
       "      <td>OOOOOOOOOOOOOOOOOOOOOOOOOOOOOOOOOOOOOOOOOOOOOO...</td>\n",
       "    </tr>\n",
       "    <tr>\n",
       "      <th>2</th>\n",
       "      <td>3</td>\n",
       "      <td>TATACCATGTACCCTCAACCTTAAAACCCTAAAACCTATACTATAA...</td>\n",
       "      <td>OOOOOOOOOOOOOOOOOOOOOOOOOOOOOOOOOOOOOOOOOOOOOO...</td>\n",
       "    </tr>\n",
       "    <tr>\n",
       "      <th>3</th>\n",
       "      <td>4</td>\n",
       "      <td>ATGGTACGTATTACCTAAGTACGTAGGATCGTAAATGGGTTGAGAG...</td>\n",
       "      <td>OOOOOOOOOOOOOOOOOOOOOOOOOOOOOOOOOOOOOOOOOOOOOO...</td>\n",
       "    </tr>\n",
       "    <tr>\n",
       "      <th>4</th>\n",
       "      <td>5</td>\n",
       "      <td>AAAACCATCTTTTTTTTTCAAATTCGTATTATCTGTATATGCCTAT...</td>\n",
       "      <td>OOOOOOOOOOOOOOOOOOOOOOOOOOOOOOOOOOOOOOOOOOOOOO...</td>\n",
       "    </tr>\n",
       "  </tbody>\n",
       "</table>\n",
       "</div>"
      ],
      "text/plain": [
       "  description                                           sequence  \\\n",
       "0           1  GGATCCGTTCGAAACAGGTTAGCCTACTATAATATAAGGATTGGAT...   \n",
       "1           2  ATGGGCGAACGACGGGAATTGAACCCGCGATGGTGAATTCACAATC...   \n",
       "2           3  TATACCATGTACCCTCAACCTTAAAACCCTAAAACCTATACTATAA...   \n",
       "3           4  ATGGTACGTATTACCTAAGTACGTAGGATCGTAAATGGGTTGAGAG...   \n",
       "4           5  AAAACCATCTTTTTTTTTCAAATTCGTATTATCTGTATATGCCTAT...   \n",
       "\n",
       "                                            encoding  \n",
       "0  OOOOOOOOOOOOOOOOOOOOOOOOOOOOOOOOOOOOOOOOOOOOOO...  \n",
       "1  OOOOOOOOOOOOOOOOOOOOOOOOOOOOOOOOOOOOOOOOOOOOOO...  \n",
       "2  OOOOOOOOOOOOOOOOOOOOOOOOOOOOOOOOOOOOOOOOOOOOOO...  \n",
       "3  OOOOOOOOOOOOOOOOOOOOOOOOOOOOOOOOOOOOOOOOOOOOOO...  \n",
       "4  OOOOOOOOOOOOOOOOOOOOOOOOOOOOOOOOOOOOOOOOOOOOOO...  "
      ]
     },
     "execution_count": 5,
     "metadata": {},
     "output_type": "execute_result"
    }
   ],
   "source": [
    "data.head()"
   ]
  },
  {
   "cell_type": "code",
   "execution_count": 5,
   "metadata": {},
   "outputs": [
    {
     "data": {
      "text/plain": [
       "500000"
      ]
     },
     "execution_count": 5,
     "metadata": {},
     "output_type": "execute_result"
    }
   ],
   "source": [
    "len(data['sequence'][0])"
   ]
  },
  {
   "cell_type": "code",
   "execution_count": 6,
   "metadata": {},
   "outputs": [
    {
     "data": {
      "text/plain": [
       "10917"
      ]
     },
     "execution_count": 6,
     "metadata": {},
     "output_type": "execute_result"
    }
   ],
   "source": [
    "len(data)"
   ]
  },
  {
   "cell_type": "code",
   "execution_count": 8,
   "metadata": {},
   "outputs": [
    {
     "data": {
      "text/plain": [
       "{'C', 'E', 'I', 'J', 'O', 'S'}"
      ]
     },
     "execution_count": 8,
     "metadata": {},
     "output_type": "execute_result"
    }
   ],
   "source": [
    "set(list(data['encoding'][0]))"
   ]
  },
  {
   "cell_type": "code",
   "execution_count": 9,
   "metadata": {},
   "outputs": [
    {
     "data": {
      "text/plain": [
       "{'A', 'C', 'G', 'T'}"
      ]
     },
     "execution_count": 9,
     "metadata": {},
     "output_type": "execute_result"
    }
   ],
   "source": [
    "set(list(data['sequence'][0]))"
   ]
  },
  {
   "cell_type": "code",
   "execution_count": 10,
   "metadata": {},
   "outputs": [
    {
     "data": {
      "text/html": [
       "<div>\n",
       "<style scoped>\n",
       "    .dataframe tbody tr th:only-of-type {\n",
       "        vertical-align: middle;\n",
       "    }\n",
       "\n",
       "    .dataframe tbody tr th {\n",
       "        vertical-align: top;\n",
       "    }\n",
       "\n",
       "    .dataframe thead th {\n",
       "        text-align: right;\n",
       "    }\n",
       "</style>\n",
       "<table border=\"1\" class=\"dataframe\">\n",
       "  <thead>\n",
       "    <tr style=\"text-align: right;\">\n",
       "      <th></th>\n",
       "      <th>description</th>\n",
       "      <th>sequence</th>\n",
       "      <th>encoding</th>\n",
       "    </tr>\n",
       "  </thead>\n",
       "  <tbody>\n",
       "    <tr>\n",
       "      <th>10912</th>\n",
       "      <td>10913</td>\n",
       "      <td>GCCGAACAGCCCTGCCGCCTGTGGCAGCGCGCCTCCTCCCGTTTTC...</td>\n",
       "      <td>OOOOOOOOOOOOOOOOOOOOOOOOOOOOOOOOOOOOOOOOOOOOOO...</td>\n",
       "    </tr>\n",
       "    <tr>\n",
       "      <th>10913</th>\n",
       "      <td>10914</td>\n",
       "      <td>AGCGAAGCACAACACGACCGCCGACACGATCGTGACCCTCTGAACA...</td>\n",
       "      <td>OOOOOOOOOOOOOOOOOOOOOOOOOOOOOOOOOOOOOOOOOOOOOO...</td>\n",
       "    </tr>\n",
       "    <tr>\n",
       "      <th>10914</th>\n",
       "      <td>10915</td>\n",
       "      <td>TTCTTGATCCTTAAGCCGAACTCGTTTTGAGCCCGTCTCAAGAATC...</td>\n",
       "      <td>OOOOOOOOOOOOOOOOOOOOOOOOOOOOOOOOOOOOOOOOOOOOOO...</td>\n",
       "    </tr>\n",
       "    <tr>\n",
       "      <th>10915</th>\n",
       "      <td>10916</td>\n",
       "      <td>TCGATTGCTCCGTTAGCAGGGCATAGTGGTCACCCGAGTTAAGTAA...</td>\n",
       "      <td>OOOOOOOOOOOOOOOOOOOOOOOOOOOOOOOOOOOOOOOOOOOOOO...</td>\n",
       "    </tr>\n",
       "    <tr>\n",
       "      <th>10916</th>\n",
       "      <td>10917</td>\n",
       "      <td>GTCTTGCACCTGAATGTTATTTGTTTCCCTAATTATCACATTTCTC...</td>\n",
       "      <td>OOOOOOOOOOOOOOOOOOOOOOOOOOOOOOOOOOOOOOOOOOOOOO...</td>\n",
       "    </tr>\n",
       "  </tbody>\n",
       "</table>\n",
       "</div>"
      ],
      "text/plain": [
       "      description                                           sequence  \\\n",
       "10912       10913  GCCGAACAGCCCTGCCGCCTGTGGCAGCGCGCCTCCTCCCGTTTTC...   \n",
       "10913       10914  AGCGAAGCACAACACGACCGCCGACACGATCGTGACCCTCTGAACA...   \n",
       "10914       10915  TTCTTGATCCTTAAGCCGAACTCGTTTTGAGCCCGTCTCAAGAATC...   \n",
       "10915       10916  TCGATTGCTCCGTTAGCAGGGCATAGTGGTCACCCGAGTTAAGTAA...   \n",
       "10916       10917  GTCTTGCACCTGAATGTTATTTGTTTCCCTAATTATCACATTTCTC...   \n",
       "\n",
       "                                                encoding  \n",
       "10912  OOOOOOOOOOOOOOOOOOOOOOOOOOOOOOOOOOOOOOOOOOOOOO...  \n",
       "10913  OOOOOOOOOOOOOOOOOOOOOOOOOOOOOOOOOOOOOOOOOOOOOO...  \n",
       "10914  OOOOOOOOOOOOOOOOOOOOOOOOOOOOOOOOOOOOOOOOOOOOOO...  \n",
       "10915  OOOOOOOOOOOOOOOOOOOOOOOOOOOOOOOOOOOOOOOOOOOOOO...  \n",
       "10916  OOOOOOOOOOOOOOOOOOOOOOOOOOOOOOOOOOOOOOOOOOOOOO...  "
      ]
     },
     "execution_count": 10,
     "metadata": {},
     "output_type": "execute_result"
    }
   ],
   "source": [
    "data.tail()"
   ]
  },
  {
   "cell_type": "markdown",
   "metadata": {},
   "source": [
    "The dataset is too large to train the model, we need to split it. We can create a subset of the original dataset or divide the original dataframe in more parts"
   ]
  },
  {
   "cell_type": "markdown",
   "metadata": {},
   "source": [
    "### Subset 5% of original dataset <br>\n"
   ]
  },
  {
   "cell_type": "code",
   "execution_count": 7,
   "metadata": {},
   "outputs": [],
   "source": [
    "subset_05_data=data.sample(int(len(data)*0.05)).reset_index()"
   ]
  },
  {
   "cell_type": "code",
   "execution_count": 8,
   "metadata": {},
   "outputs": [
    {
     "data": {
      "text/html": [
       "<div>\n",
       "<style scoped>\n",
       "    .dataframe tbody tr th:only-of-type {\n",
       "        vertical-align: middle;\n",
       "    }\n",
       "\n",
       "    .dataframe tbody tr th {\n",
       "        vertical-align: top;\n",
       "    }\n",
       "\n",
       "    .dataframe thead th {\n",
       "        text-align: right;\n",
       "    }\n",
       "</style>\n",
       "<table border=\"1\" class=\"dataframe\">\n",
       "  <thead>\n",
       "    <tr style=\"text-align: right;\">\n",
       "      <th></th>\n",
       "      <th>index</th>\n",
       "      <th>description</th>\n",
       "      <th>sequence</th>\n",
       "      <th>encoding</th>\n",
       "    </tr>\n",
       "  </thead>\n",
       "  <tbody>\n",
       "    <tr>\n",
       "      <th>0</th>\n",
       "      <td>3514</td>\n",
       "      <td>3515</td>\n",
       "      <td>NNNNNNNNNNNNNNNNNNNNNNNNNNNNNNNNNNNNNNNNNNNNNN...</td>\n",
       "      <td>OOOOOOOOOOOOOOOOOOOOOOOOOOOOOOOOOOOOOOOOOOOOOO...</td>\n",
       "    </tr>\n",
       "    <tr>\n",
       "      <th>1</th>\n",
       "      <td>7200</td>\n",
       "      <td>7201</td>\n",
       "      <td>TAGTTTCATGTAAGAACAAGGTTAACACATAGATGTAGTGTGTACC...</td>\n",
       "      <td>OOOOOOOOOOOOOOOOOOOOOOOOOOOOOOOOOOOOOOOOOOOOOO...</td>\n",
       "    </tr>\n",
       "    <tr>\n",
       "      <th>2</th>\n",
       "      <td>9098</td>\n",
       "      <td>9099</td>\n",
       "      <td>GTACAGGGGCCGGCGTTCTCTGCCTGACGGCCGGACGGTCTGCGCC...</td>\n",
       "      <td>OOOOOOOOOOOOOOOOOOOOOOOOOOOOOOOOOOOOOOOOOOOOOO...</td>\n",
       "    </tr>\n",
       "    <tr>\n",
       "      <th>3</th>\n",
       "      <td>9237</td>\n",
       "      <td>9238</td>\n",
       "      <td>ATTCGGTTTACCTTCCAAAACCGGGTGTGACAGGCAGCCGACTGGG...</td>\n",
       "      <td>OOOOOOOOOOOOOOOOOOOOOOOOOOOOOOOOOOOOOOOOOOOOOO...</td>\n",
       "    </tr>\n",
       "    <tr>\n",
       "      <th>4</th>\n",
       "      <td>5924</td>\n",
       "      <td>5925</td>\n",
       "      <td>TTTTTTTTTTTTTTTTTTTTTTTTTTTTTTTTTTTTTTTTTTTTTT...</td>\n",
       "      <td>OOOOOOOOOOOOOOOOOOOOOOOOOOOOOOOOOOOOOOOOOOOOOO...</td>\n",
       "    </tr>\n",
       "  </tbody>\n",
       "</table>\n",
       "</div>"
      ],
      "text/plain": [
       "   index description                                           sequence  \\\n",
       "0   3514        3515  NNNNNNNNNNNNNNNNNNNNNNNNNNNNNNNNNNNNNNNNNNNNNN...   \n",
       "1   7200        7201  TAGTTTCATGTAAGAACAAGGTTAACACATAGATGTAGTGTGTACC...   \n",
       "2   9098        9099  GTACAGGGGCCGGCGTTCTCTGCCTGACGGCCGGACGGTCTGCGCC...   \n",
       "3   9237        9238  ATTCGGTTTACCTTCCAAAACCGGGTGTGACAGGCAGCCGACTGGG...   \n",
       "4   5924        5925  TTTTTTTTTTTTTTTTTTTTTTTTTTTTTTTTTTTTTTTTTTTTTT...   \n",
       "\n",
       "                                            encoding  \n",
       "0  OOOOOOOOOOOOOOOOOOOOOOOOOOOOOOOOOOOOOOOOOOOOOO...  \n",
       "1  OOOOOOOOOOOOOOOOOOOOOOOOOOOOOOOOOOOOOOOOOOOOOO...  \n",
       "2  OOOOOOOOOOOOOOOOOOOOOOOOOOOOOOOOOOOOOOOOOOOOOO...  \n",
       "3  OOOOOOOOOOOOOOOOOOOOOOOOOOOOOOOOOOOOOOOOOOOOOO...  \n",
       "4  OOOOOOOOOOOOOOOOOOOOOOOOOOOOOOOOOOOOOOOOOOOOOO...  "
      ]
     },
     "execution_count": 8,
     "metadata": {},
     "output_type": "execute_result"
    }
   ],
   "source": [
    "subset_05_data.head()"
   ]
  },
  {
   "cell_type": "code",
   "execution_count": 43,
   "metadata": {},
   "outputs": [
    {
     "data": {
      "text/plain": [
       "545"
      ]
     },
     "execution_count": 43,
     "metadata": {},
     "output_type": "execute_result"
    }
   ],
   "source": [
    "len(subset_05_data)"
   ]
  },
  {
   "cell_type": "code",
   "execution_count": 9,
   "metadata": {},
   "outputs": [],
   "source": [
    "#save subset\n",
    "subset_05_data.to_pickle(\"./data/subset_05_data.pkl\")"
   ]
  },
  {
   "cell_type": "code",
   "execution_count": 8,
   "metadata": {},
   "outputs": [
    {
     "data": {
      "text/html": [
       "<div>\n",
       "<style scoped>\n",
       "    .dataframe tbody tr th:only-of-type {\n",
       "        vertical-align: middle;\n",
       "    }\n",
       "\n",
       "    .dataframe tbody tr th {\n",
       "        vertical-align: top;\n",
       "    }\n",
       "\n",
       "    .dataframe thead th {\n",
       "        text-align: right;\n",
       "    }\n",
       "</style>\n",
       "<table border=\"1\" class=\"dataframe\">\n",
       "  <thead>\n",
       "    <tr style=\"text-align: right;\">\n",
       "      <th></th>\n",
       "      <th>index</th>\n",
       "      <th>description</th>\n",
       "      <th>sequence</th>\n",
       "      <th>encoding</th>\n",
       "    </tr>\n",
       "  </thead>\n",
       "  <tbody>\n",
       "    <tr>\n",
       "      <th>0</th>\n",
       "      <td>3514</td>\n",
       "      <td>3515</td>\n",
       "      <td>NNNNNNNNNNNNNNNNNNNNNNNNNNNNNNNNNNNNNNNNNNNNNN...</td>\n",
       "      <td>OOOOOOOOOOOOOOOOOOOOOOOOOOOOOOOOOOOOOOOOOOOOOO...</td>\n",
       "    </tr>\n",
       "    <tr>\n",
       "      <th>1</th>\n",
       "      <td>7200</td>\n",
       "      <td>7201</td>\n",
       "      <td>TAGTTTCATGTAAGAACAAGGTTAACACATAGATGTAGTGTGTACC...</td>\n",
       "      <td>OOOOOOOOOOOOOOOOOOOOOOOOOOOOOOOOOOOOOOOOOOOOOO...</td>\n",
       "    </tr>\n",
       "    <tr>\n",
       "      <th>2</th>\n",
       "      <td>9098</td>\n",
       "      <td>9099</td>\n",
       "      <td>GTACAGGGGCCGGCGTTCTCTGCCTGACGGCCGGACGGTCTGCGCC...</td>\n",
       "      <td>OOOOOOOOOOOOOOOOOOOOOOOOOOOOOOOOOOOOOOOOOOOOOO...</td>\n",
       "    </tr>\n",
       "    <tr>\n",
       "      <th>3</th>\n",
       "      <td>9237</td>\n",
       "      <td>9238</td>\n",
       "      <td>ATTCGGTTTACCTTCCAAAACCGGGTGTGACAGGCAGCCGACTGGG...</td>\n",
       "      <td>OOOOOOOOOOOOOOOOOOOOOOOOOOOOOOOOOOOOOOOOOOOOOO...</td>\n",
       "    </tr>\n",
       "    <tr>\n",
       "      <th>4</th>\n",
       "      <td>5924</td>\n",
       "      <td>5925</td>\n",
       "      <td>TTTTTTTTTTTTTTTTTTTTTTTTTTTTTTTTTTTTTTTTTTTTTT...</td>\n",
       "      <td>OOOOOOOOOOOOOOOOOOOOOOOOOOOOOOOOOOOOOOOOOOOOOO...</td>\n",
       "    </tr>\n",
       "  </tbody>\n",
       "</table>\n",
       "</div>"
      ],
      "text/plain": [
       "   index description                                           sequence  \\\n",
       "0   3514        3515  NNNNNNNNNNNNNNNNNNNNNNNNNNNNNNNNNNNNNNNNNNNNNN...   \n",
       "1   7200        7201  TAGTTTCATGTAAGAACAAGGTTAACACATAGATGTAGTGTGTACC...   \n",
       "2   9098        9099  GTACAGGGGCCGGCGTTCTCTGCCTGACGGCCGGACGGTCTGCGCC...   \n",
       "3   9237        9238  ATTCGGTTTACCTTCCAAAACCGGGTGTGACAGGCAGCCGACTGGG...   \n",
       "4   5924        5925  TTTTTTTTTTTTTTTTTTTTTTTTTTTTTTTTTTTTTTTTTTTTTT...   \n",
       "\n",
       "                                            encoding  \n",
       "0  OOOOOOOOOOOOOOOOOOOOOOOOOOOOOOOOOOOOOOOOOOOOOO...  \n",
       "1  OOOOOOOOOOOOOOOOOOOOOOOOOOOOOOOOOOOOOOOOOOOOOO...  \n",
       "2  OOOOOOOOOOOOOOOOOOOOOOOOOOOOOOOOOOOOOOOOOOOOOO...  \n",
       "3  OOOOOOOOOOOOOOOOOOOOOOOOOOOOOOOOOOOOOOOOOOOOOO...  \n",
       "4  OOOOOOOOOOOOOOOOOOOOOOOOOOOOOOOOOOOOOOOOOOOOOO...  "
      ]
     },
     "execution_count": 8,
     "metadata": {},
     "output_type": "execute_result"
    }
   ],
   "source": [
    "#load dataset\n",
    "subset_05_data=load_pickle(\"data/subset_05_data.pkl\")    \n",
    "subset_05_data.head() "
   ]
  },
  {
   "cell_type": "markdown",
   "metadata": {},
   "source": [
    "### Divide the data dataframe"
   ]
  },
  {
   "cell_type": "code",
   "execution_count": 12,
   "metadata": {},
   "outputs": [],
   "source": [
    "data1, data2, data3, data4, data5=np.array_split(data,5)"
   ]
  },
  {
   "cell_type": "code",
   "execution_count": 13,
   "metadata": {},
   "outputs": [],
   "source": [
    "data1.to_csv('data/sequences_dataframe_part1.csv')\n",
    "#data2.to_csv('data/sequences_dataframe_part2.csv')\n",
    "#data3.to_csv('data/sequences_dataframe_part3.csv')\n",
    "#data4.to_csv('data/sequences_dataframe_part4.csv')\n",
    "#data5.to_csv('data/sequences_dataframe_part5.csv')\n",
    "data1=pd.read_csv('data/sequences_dataframe_part1.csv')"
   ]
  },
  {
   "cell_type": "code",
   "execution_count": 14,
   "metadata": {},
   "outputs": [
    {
     "data": {
      "text/html": [
       "<div>\n",
       "<style scoped>\n",
       "    .dataframe tbody tr th:only-of-type {\n",
       "        vertical-align: middle;\n",
       "    }\n",
       "\n",
       "    .dataframe tbody tr th {\n",
       "        vertical-align: top;\n",
       "    }\n",
       "\n",
       "    .dataframe thead th {\n",
       "        text-align: right;\n",
       "    }\n",
       "</style>\n",
       "<table border=\"1\" class=\"dataframe\">\n",
       "  <thead>\n",
       "    <tr style=\"text-align: right;\">\n",
       "      <th></th>\n",
       "      <th>Unnamed: 0</th>\n",
       "      <th>description</th>\n",
       "      <th>sequence</th>\n",
       "      <th>encoding</th>\n",
       "    </tr>\n",
       "  </thead>\n",
       "  <tbody>\n",
       "    <tr>\n",
       "      <th>0</th>\n",
       "      <td>0</td>\n",
       "      <td>1</td>\n",
       "      <td>GGATCCGTTCGAAACAGGTTAGCCTACTATAATATAAGGATTGGAT...</td>\n",
       "      <td>OOOOOOOOOOOOOOOOOOOOOOOOOOOOOOOOOOOOOOOOOOOOOO...</td>\n",
       "    </tr>\n",
       "    <tr>\n",
       "      <th>1</th>\n",
       "      <td>1</td>\n",
       "      <td>2</td>\n",
       "      <td>ATGGGCGAACGACGGGAATTGAACCCGCGATGGTGAATTCACAATC...</td>\n",
       "      <td>OOOOOOOOOOOOOOOOOOOOOOOOOOOOOOOOOOOOOOOOOOOOOO...</td>\n",
       "    </tr>\n",
       "    <tr>\n",
       "      <th>2</th>\n",
       "      <td>2</td>\n",
       "      <td>3</td>\n",
       "      <td>TATACCATGTACCCTCAACCTTAAAACCCTAAAACCTATACTATAA...</td>\n",
       "      <td>OOOOOOOOOOOOOOOOOOOOOOOOOOOOOOOOOOOOOOOOOOOOOO...</td>\n",
       "    </tr>\n",
       "    <tr>\n",
       "      <th>3</th>\n",
       "      <td>3</td>\n",
       "      <td>4</td>\n",
       "      <td>ATGGTACGTATTACCTAAGTACGTAGGATCGTAAATGGGTTGAGAG...</td>\n",
       "      <td>OOOOOOOOOOOOOOOOOOOOOOOOOOOOOOOOOOOOOOOOOOOOOO...</td>\n",
       "    </tr>\n",
       "    <tr>\n",
       "      <th>4</th>\n",
       "      <td>4</td>\n",
       "      <td>5</td>\n",
       "      <td>AAAACCATCTTTTTTTTTCAAATTCGTATTATCTGTATATGCCTAT...</td>\n",
       "      <td>OOOOOOOOOOOOOOOOOOOOOOOOOOOOOOOOOOOOOOOOOOOOOO...</td>\n",
       "    </tr>\n",
       "  </tbody>\n",
       "</table>\n",
       "</div>"
      ],
      "text/plain": [
       "   Unnamed: 0  description                                           sequence  \\\n",
       "0           0            1  GGATCCGTTCGAAACAGGTTAGCCTACTATAATATAAGGATTGGAT...   \n",
       "1           1            2  ATGGGCGAACGACGGGAATTGAACCCGCGATGGTGAATTCACAATC...   \n",
       "2           2            3  TATACCATGTACCCTCAACCTTAAAACCCTAAAACCTATACTATAA...   \n",
       "3           3            4  ATGGTACGTATTACCTAAGTACGTAGGATCGTAAATGGGTTGAGAG...   \n",
       "4           4            5  AAAACCATCTTTTTTTTTCAAATTCGTATTATCTGTATATGCCTAT...   \n",
       "\n",
       "                                            encoding  \n",
       "0  OOOOOOOOOOOOOOOOOOOOOOOOOOOOOOOOOOOOOOOOOOOOOO...  \n",
       "1  OOOOOOOOOOOOOOOOOOOOOOOOOOOOOOOOOOOOOOOOOOOOOO...  \n",
       "2  OOOOOOOOOOOOOOOOOOOOOOOOOOOOOOOOOOOOOOOOOOOOOO...  \n",
       "3  OOOOOOOOOOOOOOOOOOOOOOOOOOOOOOOOOOOOOOOOOOOOOO...  \n",
       "4  OOOOOOOOOOOOOOOOOOOOOOOOOOOOOOOOOOOOOOOOOOOOOO...  "
      ]
     },
     "execution_count": 14,
     "metadata": {},
     "output_type": "execute_result"
    }
   ],
   "source": [
    "data1.head()"
   ]
  },
  {
   "cell_type": "markdown",
   "metadata": {},
   "source": [
    "## EDA by base"
   ]
  },
  {
   "cell_type": "markdown",
   "metadata": {},
   "source": [
    "split each sequence by base and save them in a dataframe"
   ]
  },
  {
   "cell_type": "code",
   "execution_count": 10,
   "metadata": {},
   "outputs": [],
   "source": [
    "d=pd.DataFrame()\n",
    "d['sequence_base']=list(''.join(subset_05_data['sequence']))\n",
    "d['encoding_base']=list(''.join(subset_05_data['encoding']))"
   ]
  },
  {
   "cell_type": "code",
   "execution_count": 11,
   "metadata": {},
   "outputs": [
    {
     "data": {
      "text/html": [
       "<div>\n",
       "<style scoped>\n",
       "    .dataframe tbody tr th:only-of-type {\n",
       "        vertical-align: middle;\n",
       "    }\n",
       "\n",
       "    .dataframe tbody tr th {\n",
       "        vertical-align: top;\n",
       "    }\n",
       "\n",
       "    .dataframe thead th {\n",
       "        text-align: right;\n",
       "    }\n",
       "</style>\n",
       "<table border=\"1\" class=\"dataframe\">\n",
       "  <thead>\n",
       "    <tr style=\"text-align: right;\">\n",
       "      <th></th>\n",
       "      <th>sequence_base</th>\n",
       "      <th>encoding_base</th>\n",
       "    </tr>\n",
       "  </thead>\n",
       "  <tbody>\n",
       "    <tr>\n",
       "      <th>0</th>\n",
       "      <td>N</td>\n",
       "      <td>O</td>\n",
       "    </tr>\n",
       "    <tr>\n",
       "      <th>1</th>\n",
       "      <td>N</td>\n",
       "      <td>O</td>\n",
       "    </tr>\n",
       "    <tr>\n",
       "      <th>2</th>\n",
       "      <td>N</td>\n",
       "      <td>O</td>\n",
       "    </tr>\n",
       "    <tr>\n",
       "      <th>3</th>\n",
       "      <td>N</td>\n",
       "      <td>O</td>\n",
       "    </tr>\n",
       "    <tr>\n",
       "      <th>4</th>\n",
       "      <td>N</td>\n",
       "      <td>O</td>\n",
       "    </tr>\n",
       "  </tbody>\n",
       "</table>\n",
       "</div>"
      ],
      "text/plain": [
       "  sequence_base encoding_base\n",
       "0             N             O\n",
       "1             N             O\n",
       "2             N             O\n",
       "3             N             O\n",
       "4             N             O"
      ]
     },
     "execution_count": 11,
     "metadata": {},
     "output_type": "execute_result"
    }
   ],
   "source": [
    "d.head()"
   ]
  },
  {
   "cell_type": "code",
   "execution_count": 21,
   "metadata": {},
   "outputs": [
    {
     "data": {
      "text/plain": [
       "273000000"
      ]
     },
     "execution_count": 21,
     "metadata": {},
     "output_type": "execute_result"
    }
   ],
   "source": [
    "# total numebr of available bases\n",
    "len(subset_05_data)*500000"
   ]
  },
  {
   "cell_type": "code",
   "execution_count": 12,
   "metadata": {},
   "outputs": [
    {
     "data": {
      "text/html": [
       "<div>\n",
       "<style scoped>\n",
       "    .dataframe tbody tr th:only-of-type {\n",
       "        vertical-align: middle;\n",
       "    }\n",
       "\n",
       "    .dataframe tbody tr th {\n",
       "        vertical-align: top;\n",
       "    }\n",
       "\n",
       "    .dataframe thead th {\n",
       "        text-align: right;\n",
       "    }\n",
       "</style>\n",
       "<table border=\"1\" class=\"dataframe\">\n",
       "  <thead>\n",
       "    <tr style=\"text-align: right;\">\n",
       "      <th></th>\n",
       "      <th>sequence_base</th>\n",
       "    </tr>\n",
       "    <tr>\n",
       "      <th>encoding_base</th>\n",
       "      <th></th>\n",
       "    </tr>\n",
       "  </thead>\n",
       "  <tbody>\n",
       "    <tr>\n",
       "      <th>C</th>\n",
       "      <td>4945522</td>\n",
       "    </tr>\n",
       "    <tr>\n",
       "      <th>E</th>\n",
       "      <td>11302</td>\n",
       "    </tr>\n",
       "    <tr>\n",
       "      <th>I</th>\n",
       "      <td>12845963</td>\n",
       "    </tr>\n",
       "    <tr>\n",
       "      <th>J</th>\n",
       "      <td>101035</td>\n",
       "    </tr>\n",
       "    <tr>\n",
       "      <th>O</th>\n",
       "      <td>254584869</td>\n",
       "    </tr>\n",
       "    <tr>\n",
       "      <th>S</th>\n",
       "      <td>11309</td>\n",
       "    </tr>\n",
       "  </tbody>\n",
       "</table>\n",
       "</div>"
      ],
      "text/plain": [
       "               sequence_base\n",
       "encoding_base               \n",
       "C                    4945522\n",
       "E                      11302\n",
       "I                   12845963\n",
       "J                     101035\n",
       "O                  254584869\n",
       "S                      11309"
      ]
     },
     "execution_count": 12,
     "metadata": {},
     "output_type": "execute_result"
    }
   ],
   "source": [
    "#the dataset is unbalanced\n",
    "d.groupby('encoding_base').count()"
   ]
  },
  {
   "cell_type": "code",
   "execution_count": 13,
   "metadata": {},
   "outputs": [],
   "source": [
    "#count the bases belonging to the gene sequences\n",
    "gene_count=d.loc[d['encoding_base'].isin(['C','E','I','J','S'])].count()"
   ]
  },
  {
   "cell_type": "code",
   "execution_count": 16,
   "metadata": {},
   "outputs": [
    {
     "data": {
      "text/plain": [
       "sequence_base    17915131\n",
       "encoding_base    17915131\n",
       "dtype: int64"
      ]
     },
     "execution_count": 16,
     "metadata": {},
     "output_type": "execute_result"
    }
   ],
   "source": [
    "gene_count"
   ]
  },
  {
   "cell_type": "code",
   "execution_count": 14,
   "metadata": {},
   "outputs": [
    {
     "data": {
      "text/plain": [
       "sequence_base    14.210606\n",
       "encoding_base    14.210606\n",
       "dtype: float64"
      ]
     },
     "execution_count": 14,
     "metadata": {},
     "output_type": "execute_result"
    }
   ],
   "source": [
    "d.loc[d['encoding_base'].isin(['O'])].count()/gene_count\n",
    "#more intergenic base than gene bases, unbalanced for two-class problem "
   ]
  },
  {
   "cell_type": "code",
   "execution_count": 15,
   "metadata": {},
   "outputs": [
    {
     "data": {
      "text/html": [
       "<div>\n",
       "<style scoped>\n",
       "    .dataframe tbody tr th:only-of-type {\n",
       "        vertical-align: middle;\n",
       "    }\n",
       "\n",
       "    .dataframe tbody tr th {\n",
       "        vertical-align: top;\n",
       "    }\n",
       "\n",
       "    .dataframe thead th {\n",
       "        text-align: right;\n",
       "    }\n",
       "</style>\n",
       "<table border=\"1\" class=\"dataframe\">\n",
       "  <thead>\n",
       "    <tr style=\"text-align: right;\">\n",
       "      <th></th>\n",
       "      <th>encoding_base</th>\n",
       "    </tr>\n",
       "    <tr>\n",
       "      <th>sequence_base</th>\n",
       "      <th></th>\n",
       "    </tr>\n",
       "  </thead>\n",
       "  <tbody>\n",
       "    <tr>\n",
       "      <th>A</th>\n",
       "      <td>62026616</td>\n",
       "    </tr>\n",
       "    <tr>\n",
       "      <th>C</th>\n",
       "      <td>46690512</td>\n",
       "    </tr>\n",
       "    <tr>\n",
       "      <th>G</th>\n",
       "      <td>46625820</td>\n",
       "    </tr>\n",
       "    <tr>\n",
       "      <th>K</th>\n",
       "      <td>3</td>\n",
       "    </tr>\n",
       "    <tr>\n",
       "      <th>M</th>\n",
       "      <td>3</td>\n",
       "    </tr>\n",
       "    <tr>\n",
       "      <th>N</th>\n",
       "      <td>6944703</td>\n",
       "    </tr>\n",
       "    <tr>\n",
       "      <th>R</th>\n",
       "      <td>4</td>\n",
       "    </tr>\n",
       "    <tr>\n",
       "      <th>S</th>\n",
       "      <td>1</td>\n",
       "    </tr>\n",
       "    <tr>\n",
       "      <th>T</th>\n",
       "      <td>110212319</td>\n",
       "    </tr>\n",
       "    <tr>\n",
       "      <th>W</th>\n",
       "      <td>13</td>\n",
       "    </tr>\n",
       "    <tr>\n",
       "      <th>Y</th>\n",
       "      <td>6</td>\n",
       "    </tr>\n",
       "  </tbody>\n",
       "</table>\n",
       "</div>"
      ],
      "text/plain": [
       "               encoding_base\n",
       "sequence_base               \n",
       "A                   62026616\n",
       "C                   46690512\n",
       "G                   46625820\n",
       "K                          3\n",
       "M                          3\n",
       "N                    6944703\n",
       "R                          4\n",
       "S                          1\n",
       "T                  110212319\n",
       "W                         13\n",
       "Y                          6"
      ]
     },
     "execution_count": 15,
     "metadata": {},
     "output_type": "execute_result"
    }
   ],
   "source": [
    "d.groupby('sequence_base').count() #check IUPAC nomeclature"
   ]
  },
  {
   "cell_type": "code",
   "execution_count": 17,
   "metadata": {},
   "outputs": [],
   "source": [
    "e_base=set(d['encoding_base'])"
   ]
  },
  {
   "cell_type": "code",
   "execution_count": 18,
   "metadata": {},
   "outputs": [
    {
     "name": "stdout",
     "output_type": "stream",
     "text": [
      "\n",
      "\n",
      "E\n",
      "               encoding_base\n",
      "sequence_base               \n",
      "A                       5235\n",
      "G                       2295\n",
      "T                       3772\n",
      "\n",
      "\n",
      "\n",
      "\n",
      "S\n",
      "               encoding_base\n",
      "sequence_base               \n",
      "A                       3769\n",
      "G                       3765\n",
      "T                       3775\n",
      "\n",
      "\n",
      "\n",
      "\n",
      "O\n",
      "               encoding_base\n",
      "sequence_base               \n",
      "A                   57042713\n",
      "C                   42977852\n",
      "G                   42780187\n",
      "K                          3\n",
      "M                          3\n",
      "N                    6940135\n",
      "R                          4\n",
      "S                          1\n",
      "T                  104843952\n",
      "W                         13\n",
      "Y                          6\n",
      "\n",
      "\n",
      "\n",
      "\n",
      "C\n",
      "               encoding_base\n",
      "sequence_base               \n",
      "A                    1374248\n",
      "C                    1137327\n",
      "G                    1207814\n",
      "N                        190\n",
      "T                    1225943\n",
      "\n",
      "\n",
      "\n",
      "\n",
      "J\n",
      "               encoding_base\n",
      "sequence_base               \n",
      "A                      28181\n",
      "C                      12684\n",
      "G                      37343\n",
      "N                          9\n",
      "T                      22818\n",
      "\n",
      "\n",
      "\n",
      "\n",
      "I\n",
      "               encoding_base\n",
      "sequence_base               \n",
      "A                    3572470\n",
      "C                    2562649\n",
      "G                    2594416\n",
      "N                       4369\n",
      "T                    4112059\n",
      "\n",
      "\n"
     ]
    }
   ],
   "source": [
    "#distribution of bases by class\n",
    "for idx,e in enumerate (e_base):\n",
    "    print('\\n')\n",
    "    print(e)\n",
    "    print(d[d['encoding_base']==str(e)].groupby('sequence_base').count())\n",
    "    print('\\n')"
   ]
  },
  {
   "cell_type": "code",
   "execution_count": null,
   "metadata": {},
   "outputs": [],
   "source": [
    "#d.groupby(['encoding_base'])['sequence_base'].agg(count_base='sum').sort_values('count_base', ascending=False).reset_index()"
   ]
  },
  {
   "cell_type": "code",
   "execution_count": 19,
   "metadata": {},
   "outputs": [
    {
     "data": {
      "text/html": [
       "<div>\n",
       "<style scoped>\n",
       "    .dataframe tbody tr th:only-of-type {\n",
       "        vertical-align: middle;\n",
       "    }\n",
       "\n",
       "    .dataframe tbody tr th {\n",
       "        vertical-align: top;\n",
       "    }\n",
       "\n",
       "    .dataframe thead th {\n",
       "        text-align: right;\n",
       "    }\n",
       "</style>\n",
       "<table border=\"1\" class=\"dataframe\">\n",
       "  <thead>\n",
       "    <tr style=\"text-align: right;\">\n",
       "      <th></th>\n",
       "      <th></th>\n",
       "    </tr>\n",
       "    <tr>\n",
       "      <th>sequence_base</th>\n",
       "      <th>encoding_base</th>\n",
       "    </tr>\n",
       "  </thead>\n",
       "  <tbody>\n",
       "    <tr>\n",
       "      <th rowspan=\"6\" valign=\"top\">A</th>\n",
       "      <th>C</th>\n",
       "    </tr>\n",
       "    <tr>\n",
       "      <th>E</th>\n",
       "    </tr>\n",
       "    <tr>\n",
       "      <th>I</th>\n",
       "    </tr>\n",
       "    <tr>\n",
       "      <th>J</th>\n",
       "    </tr>\n",
       "    <tr>\n",
       "      <th>O</th>\n",
       "    </tr>\n",
       "    <tr>\n",
       "      <th>S</th>\n",
       "    </tr>\n",
       "    <tr>\n",
       "      <th rowspan=\"4\" valign=\"top\">C</th>\n",
       "      <th>C</th>\n",
       "    </tr>\n",
       "    <tr>\n",
       "      <th>I</th>\n",
       "    </tr>\n",
       "    <tr>\n",
       "      <th>J</th>\n",
       "    </tr>\n",
       "    <tr>\n",
       "      <th>O</th>\n",
       "    </tr>\n",
       "    <tr>\n",
       "      <th rowspan=\"6\" valign=\"top\">G</th>\n",
       "      <th>C</th>\n",
       "    </tr>\n",
       "    <tr>\n",
       "      <th>E</th>\n",
       "    </tr>\n",
       "    <tr>\n",
       "      <th>I</th>\n",
       "    </tr>\n",
       "    <tr>\n",
       "      <th>J</th>\n",
       "    </tr>\n",
       "    <tr>\n",
       "      <th>O</th>\n",
       "    </tr>\n",
       "    <tr>\n",
       "      <th>S</th>\n",
       "    </tr>\n",
       "    <tr>\n",
       "      <th>K</th>\n",
       "      <th>O</th>\n",
       "    </tr>\n",
       "    <tr>\n",
       "      <th>M</th>\n",
       "      <th>O</th>\n",
       "    </tr>\n",
       "    <tr>\n",
       "      <th rowspan=\"4\" valign=\"top\">N</th>\n",
       "      <th>C</th>\n",
       "    </tr>\n",
       "    <tr>\n",
       "      <th>I</th>\n",
       "    </tr>\n",
       "    <tr>\n",
       "      <th>J</th>\n",
       "    </tr>\n",
       "    <tr>\n",
       "      <th>O</th>\n",
       "    </tr>\n",
       "    <tr>\n",
       "      <th>R</th>\n",
       "      <th>O</th>\n",
       "    </tr>\n",
       "    <tr>\n",
       "      <th>S</th>\n",
       "      <th>O</th>\n",
       "    </tr>\n",
       "    <tr>\n",
       "      <th rowspan=\"6\" valign=\"top\">T</th>\n",
       "      <th>C</th>\n",
       "    </tr>\n",
       "    <tr>\n",
       "      <th>E</th>\n",
       "    </tr>\n",
       "    <tr>\n",
       "      <th>I</th>\n",
       "    </tr>\n",
       "    <tr>\n",
       "      <th>J</th>\n",
       "    </tr>\n",
       "    <tr>\n",
       "      <th>O</th>\n",
       "    </tr>\n",
       "    <tr>\n",
       "      <th>S</th>\n",
       "    </tr>\n",
       "    <tr>\n",
       "      <th>W</th>\n",
       "      <th>O</th>\n",
       "    </tr>\n",
       "    <tr>\n",
       "      <th>Y</th>\n",
       "      <th>O</th>\n",
       "    </tr>\n",
       "  </tbody>\n",
       "</table>\n",
       "</div>"
      ],
      "text/plain": [
       "Empty DataFrame\n",
       "Columns: []\n",
       "Index: [(A, C), (A, E), (A, I), (A, J), (A, O), (A, S), (C, C), (C, I), (C, J), (C, O), (G, C), (G, E), (G, I), (G, J), (G, O), (G, S), (K, O), (M, O), (N, C), (N, I), (N, J), (N, O), (R, O), (S, O), (T, C), (T, E), (T, I), (T, J), (T, O), (T, S), (W, O), (Y, O)]"
      ]
     },
     "execution_count": 19,
     "metadata": {},
     "output_type": "execute_result"
    }
   ],
   "source": [
    "# some bases characterize a specific class see W,Y for introgenic\n",
    "d.groupby(['sequence_base','encoding_base']).count()"
   ]
  },
  {
   "cell_type": "markdown",
   "metadata": {},
   "source": [
    "## Eda by sequence"
   ]
  },
  {
   "cell_type": "markdown",
   "metadata": {},
   "source": [
    "The purpose of this kind of exploration is the possibility to use these subsequences as word in a sentence. In this way we can apply some widespread score like Tf-Idf and cosine similarity to check if the classes are well different from each other and they can be good for a multiclass problem"
   ]
  },
  {
   "cell_type": "markdown",
   "metadata": {},
   "source": [
    "## split sequence when encoding base changes"
   ]
  },
  {
   "cell_type": "code",
   "execution_count": 20,
   "metadata": {},
   "outputs": [
    {
     "data": {
      "text/html": [
       "<div>\n",
       "<style scoped>\n",
       "    .dataframe tbody tr th:only-of-type {\n",
       "        vertical-align: middle;\n",
       "    }\n",
       "\n",
       "    .dataframe tbody tr th {\n",
       "        vertical-align: top;\n",
       "    }\n",
       "\n",
       "    .dataframe thead th {\n",
       "        text-align: right;\n",
       "    }\n",
       "</style>\n",
       "<table border=\"1\" class=\"dataframe\">\n",
       "  <thead>\n",
       "    <tr style=\"text-align: right;\">\n",
       "      <th></th>\n",
       "      <th>index</th>\n",
       "      <th>description</th>\n",
       "      <th>sequence</th>\n",
       "      <th>encoding</th>\n",
       "    </tr>\n",
       "  </thead>\n",
       "  <tbody>\n",
       "    <tr>\n",
       "      <th>0</th>\n",
       "      <td>3514</td>\n",
       "      <td>3515</td>\n",
       "      <td>NNNNNNNNNNNNNNNNNNNNNNNNNNNNNNNNNNNNNNNNNNNNNN...</td>\n",
       "      <td>OOOOOOOOOOOOOOOOOOOOOOOOOOOOOOOOOOOOOOOOOOOOOO...</td>\n",
       "    </tr>\n",
       "    <tr>\n",
       "      <th>1</th>\n",
       "      <td>7200</td>\n",
       "      <td>7201</td>\n",
       "      <td>TAGTTTCATGTAAGAACAAGGTTAACACATAGATGTAGTGTGTACC...</td>\n",
       "      <td>OOOOOOOOOOOOOOOOOOOOOOOOOOOOOOOOOOOOOOOOOOOOOO...</td>\n",
       "    </tr>\n",
       "    <tr>\n",
       "      <th>2</th>\n",
       "      <td>9098</td>\n",
       "      <td>9099</td>\n",
       "      <td>GTACAGGGGCCGGCGTTCTCTGCCTGACGGCCGGACGGTCTGCGCC...</td>\n",
       "      <td>OOOOOOOOOOOOOOOOOOOOOOOOOOOOOOOOOOOOOOOOOOOOOO...</td>\n",
       "    </tr>\n",
       "    <tr>\n",
       "      <th>3</th>\n",
       "      <td>9237</td>\n",
       "      <td>9238</td>\n",
       "      <td>ATTCGGTTTACCTTCCAAAACCGGGTGTGACAGGCAGCCGACTGGG...</td>\n",
       "      <td>OOOOOOOOOOOOOOOOOOOOOOOOOOOOOOOOOOOOOOOOOOOOOO...</td>\n",
       "    </tr>\n",
       "    <tr>\n",
       "      <th>4</th>\n",
       "      <td>5924</td>\n",
       "      <td>5925</td>\n",
       "      <td>TTTTTTTTTTTTTTTTTTTTTTTTTTTTTTTTTTTTTTTTTTTTTT...</td>\n",
       "      <td>OOOOOOOOOOOOOOOOOOOOOOOOOOOOOOOOOOOOOOOOOOOOOO...</td>\n",
       "    </tr>\n",
       "  </tbody>\n",
       "</table>\n",
       "</div>"
      ],
      "text/plain": [
       "   index description                                           sequence  \\\n",
       "0   3514        3515  NNNNNNNNNNNNNNNNNNNNNNNNNNNNNNNNNNNNNNNNNNNNNN...   \n",
       "1   7200        7201  TAGTTTCATGTAAGAACAAGGTTAACACATAGATGTAGTGTGTACC...   \n",
       "2   9098        9099  GTACAGGGGCCGGCGTTCTCTGCCTGACGGCCGGACGGTCTGCGCC...   \n",
       "3   9237        9238  ATTCGGTTTACCTTCCAAAACCGGGTGTGACAGGCAGCCGACTGGG...   \n",
       "4   5924        5925  TTTTTTTTTTTTTTTTTTTTTTTTTTTTTTTTTTTTTTTTTTTTTT...   \n",
       "\n",
       "                                            encoding  \n",
       "0  OOOOOOOOOOOOOOOOOOOOOOOOOOOOOOOOOOOOOOOOOOOOOO...  \n",
       "1  OOOOOOOOOOOOOOOOOOOOOOOOOOOOOOOOOOOOOOOOOOOOOO...  \n",
       "2  OOOOOOOOOOOOOOOOOOOOOOOOOOOOOOOOOOOOOOOOOOOOOO...  \n",
       "3  OOOOOOOOOOOOOOOOOOOOOOOOOOOOOOOOOOOOOOOOOOOOOO...  \n",
       "4  OOOOOOOOOOOOOOOOOOOOOOOOOOOOOOOOOOOOOOOOOOOOOO...  "
      ]
     },
     "execution_count": 20,
     "metadata": {},
     "output_type": "execute_result"
    }
   ],
   "source": [
    "subset_05_data.head()"
   ]
  },
  {
   "cell_type": "code",
   "execution_count": 6,
   "metadata": {},
   "outputs": [
    {
     "data": {
      "text/plain": [
       "{'C', 'E', 'I', 'J', 'O', 'S'}"
      ]
     },
     "execution_count": 6,
     "metadata": {},
     "output_type": "execute_result"
    }
   ],
   "source": [
    "set(list(subset_05_data['encoding'][1]))"
   ]
  },
  {
   "cell_type": "code",
   "execution_count": 7,
   "metadata": {},
   "outputs": [
    {
     "data": {
      "text/plain": [
       "545"
      ]
     },
     "execution_count": 7,
     "metadata": {},
     "output_type": "execute_result"
    }
   ],
   "source": [
    "len(subset_05_data['encoding'])"
   ]
  },
  {
   "cell_type": "code",
   "execution_count": 9,
   "metadata": {},
   "outputs": [
    {
     "data": {
      "text/plain": [
       "500000"
      ]
     },
     "execution_count": 9,
     "metadata": {},
     "output_type": "execute_result"
    }
   ],
   "source": [
    "len(subset_05_data['encoding'][0])"
   ]
  },
  {
   "cell_type": "markdown",
   "metadata": {},
   "source": [
    "subset_05_data or data*"
   ]
  },
  {
   "cell_type": "code",
   "execution_count": 15,
   "metadata": {},
   "outputs": [],
   "source": [
    "#split encoding when character changes\n",
    "data1['encoding splitted']=data1['encoding'].apply(lambda x: ','.join(''.join(group) for key, group in groupby(x)))"
   ]
  },
  {
   "cell_type": "code",
   "execution_count": 16,
   "metadata": {},
   "outputs": [],
   "source": [
    "#count the length of each chunks and transform them in an integer array\n",
    "data1['encoding splitted length']=data1['encoding splitted'].apply(lambda x: ','.join(str(len(val)) for idx, val in enumerate(x.split(','))))   \n",
    "data1['encoding splitted length']=data1['encoding splitted length'].apply(lambda x: [int(s) for s in x.split(',')])                                                               "
   ]
  },
  {
   "cell_type": "code",
   "execution_count": 17,
   "metadata": {},
   "outputs": [],
   "source": [
    "#split sequence on encoding chunks                                                \n",
    "sequence_splitted=[]\n",
    "for idx, val in enumerate(data1['sequence']):\n",
    "    sequence_splitted.append(','.join([val[sum(data1['encoding splitted length'][idx][:i]):sum(data1['encoding splitted length'][idx][:i+1])] for i in range(len(data1['encoding splitted length'][idx]))]))\n",
    "data1['sequence splitted']=  sequence_splitted"
   ]
  },
  {
   "cell_type": "code",
   "execution_count": 18,
   "metadata": {},
   "outputs": [
    {
     "data": {
      "text/html": [
       "<div>\n",
       "<style scoped>\n",
       "    .dataframe tbody tr th:only-of-type {\n",
       "        vertical-align: middle;\n",
       "    }\n",
       "\n",
       "    .dataframe tbody tr th {\n",
       "        vertical-align: top;\n",
       "    }\n",
       "\n",
       "    .dataframe thead th {\n",
       "        text-align: right;\n",
       "    }\n",
       "</style>\n",
       "<table border=\"1\" class=\"dataframe\">\n",
       "  <thead>\n",
       "    <tr style=\"text-align: right;\">\n",
       "      <th></th>\n",
       "      <th>Unnamed: 0</th>\n",
       "      <th>description</th>\n",
       "      <th>sequence</th>\n",
       "      <th>encoding</th>\n",
       "      <th>encoding splitted</th>\n",
       "      <th>encoding splitted length</th>\n",
       "      <th>sequence splitted</th>\n",
       "    </tr>\n",
       "  </thead>\n",
       "  <tbody>\n",
       "    <tr>\n",
       "      <th>0</th>\n",
       "      <td>0</td>\n",
       "      <td>1</td>\n",
       "      <td>GGATCCGTTCGAAACAGGTTAGCCTACTATAATATAAGGATTGGAT...</td>\n",
       "      <td>OOOOOOOOOOOOOOOOOOOOOOOOOOOOOOOOOOOOOOOOOOOOOO...</td>\n",
       "      <td>OOOOOOOOOOOOOOOOOOOOOOOOOOOOOOOOOOOOOOOOOOOOOO...</td>\n",
       "      <td>[11917, 3, 318, 3, 4614, 3, 390, 3, 13211, 3, ...</td>\n",
       "      <td>GGATCCGTTCGAAACAGGTTAGCCTACTATAATATAAGGATTGGAT...</td>\n",
       "    </tr>\n",
       "    <tr>\n",
       "      <th>1</th>\n",
       "      <td>1</td>\n",
       "      <td>2</td>\n",
       "      <td>ATGGGCGAACGACGGGAATTGAACCCGCGATGGTGAATTCACAATC...</td>\n",
       "      <td>OOOOOOOOOOOOOOOOOOOOOOOOOOOOOOOOOOOOOOOOOOOOOO...</td>\n",
       "      <td>OOOOOOOOOOOOOOOOOOOOOOOOOOOOOOOOOOOOOOOOOOOOOO...</td>\n",
       "      <td>[7016, 3, 180, 3, 380, 3, 105, 3, 20395, 3, 84...</td>\n",
       "      <td>ATGGGCGAACGACGGGAATTGAACCCGCGATGGTGAATTCACAATC...</td>\n",
       "    </tr>\n",
       "    <tr>\n",
       "      <th>2</th>\n",
       "      <td>2</td>\n",
       "      <td>3</td>\n",
       "      <td>TATACCATGTACCCTCAACCTTAAAACCCTAAAACCTATACTATAA...</td>\n",
       "      <td>OOOOOOOOOOOOOOOOOOOOOOOOOOOOOOOOOOOOOOOOOOOOOO...</td>\n",
       "      <td>OOOOOOOOOOOOOOOOOOOOOOOOOOOOOOOOOOOOOOOOOOOOOO...</td>\n",
       "      <td>[5338, 3, 249, 3, 5044, 3, 2025, 3, 125, 3, 20...</td>\n",
       "      <td>TATACCATGTACCCTCAACCTTAAAACCCTAAAACCTATACTATAA...</td>\n",
       "    </tr>\n",
       "  </tbody>\n",
       "</table>\n",
       "</div>"
      ],
      "text/plain": [
       "   Unnamed: 0  description                                           sequence  \\\n",
       "0           0            1  GGATCCGTTCGAAACAGGTTAGCCTACTATAATATAAGGATTGGAT...   \n",
       "1           1            2  ATGGGCGAACGACGGGAATTGAACCCGCGATGGTGAATTCACAATC...   \n",
       "2           2            3  TATACCATGTACCCTCAACCTTAAAACCCTAAAACCTATACTATAA...   \n",
       "\n",
       "                                            encoding  \\\n",
       "0  OOOOOOOOOOOOOOOOOOOOOOOOOOOOOOOOOOOOOOOOOOOOOO...   \n",
       "1  OOOOOOOOOOOOOOOOOOOOOOOOOOOOOOOOOOOOOOOOOOOOOO...   \n",
       "2  OOOOOOOOOOOOOOOOOOOOOOOOOOOOOOOOOOOOOOOOOOOOOO...   \n",
       "\n",
       "                                   encoding splitted  \\\n",
       "0  OOOOOOOOOOOOOOOOOOOOOOOOOOOOOOOOOOOOOOOOOOOOOO...   \n",
       "1  OOOOOOOOOOOOOOOOOOOOOOOOOOOOOOOOOOOOOOOOOOOOOO...   \n",
       "2  OOOOOOOOOOOOOOOOOOOOOOOOOOOOOOOOOOOOOOOOOOOOOO...   \n",
       "\n",
       "                            encoding splitted length  \\\n",
       "0  [11917, 3, 318, 3, 4614, 3, 390, 3, 13211, 3, ...   \n",
       "1  [7016, 3, 180, 3, 380, 3, 105, 3, 20395, 3, 84...   \n",
       "2  [5338, 3, 249, 3, 5044, 3, 2025, 3, 125, 3, 20...   \n",
       "\n",
       "                                   sequence splitted  \n",
       "0  GGATCCGTTCGAAACAGGTTAGCCTACTATAATATAAGGATTGGAT...  \n",
       "1  ATGGGCGAACGACGGGAATTGAACCCGCGATGGTGAATTCACAATC...  \n",
       "2  TATACCATGTACCCTCAACCTTAAAACCCTAAAACCTATACTATAA...  "
      ]
     },
     "execution_count": 18,
     "metadata": {},
     "output_type": "execute_result"
    }
   ],
   "source": [
    "data1.head(3)"
   ]
  },
  {
   "cell_type": "code",
   "execution_count": 19,
   "metadata": {},
   "outputs": [],
   "source": [
    "#put splitted sequence and encoding in a new dataframe\n",
    "word_df=pd.concat([pd.Series(row['encoding splitted'].split(','), row['sequence splitted'].split(','))              \n",
    "                    for _, row in data1.iterrows()]).reset_index()"
   ]
  },
  {
   "cell_type": "code",
   "execution_count": 20,
   "metadata": {},
   "outputs": [],
   "source": [
    "word_df['encoding']=word_df[0]\n",
    "word_df['genomic_sequence']=word_df['index']\n",
    "\n",
    "word_df['encoding']=word_df['encoding'].apply(lambda x: list(itertools.chain.from_iterable(set(x)))[0])"
   ]
  },
  {
   "cell_type": "code",
   "execution_count": 21,
   "metadata": {},
   "outputs": [
    {
     "data": {
      "text/html": [
       "<div>\n",
       "<style scoped>\n",
       "    .dataframe tbody tr th:only-of-type {\n",
       "        vertical-align: middle;\n",
       "    }\n",
       "\n",
       "    .dataframe tbody tr th {\n",
       "        vertical-align: top;\n",
       "    }\n",
       "\n",
       "    .dataframe thead th {\n",
       "        text-align: right;\n",
       "    }\n",
       "</style>\n",
       "<table border=\"1\" class=\"dataframe\">\n",
       "  <thead>\n",
       "    <tr style=\"text-align: right;\">\n",
       "      <th></th>\n",
       "      <th>index</th>\n",
       "      <th>0</th>\n",
       "      <th>encoding</th>\n",
       "      <th>genomic_sequence</th>\n",
       "    </tr>\n",
       "  </thead>\n",
       "  <tbody>\n",
       "    <tr>\n",
       "      <th>0</th>\n",
       "      <td>GGATCCGTTCGAAACAGGTTAGCCTACTATAATATAAGGATTGGAT...</td>\n",
       "      <td>OOOOOOOOOOOOOOOOOOOOOOOOOOOOOOOOOOOOOOOOOOOOOO...</td>\n",
       "      <td>O</td>\n",
       "      <td>GGATCCGTTCGAAACAGGTTAGCCTACTATAATATAAGGATTGGAT...</td>\n",
       "    </tr>\n",
       "    <tr>\n",
       "      <th>1</th>\n",
       "      <td>ATG</td>\n",
       "      <td>SSS</td>\n",
       "      <td>S</td>\n",
       "      <td>ATG</td>\n",
       "    </tr>\n",
       "    <tr>\n",
       "      <th>2</th>\n",
       "      <td>TTTCAGTTCGCTAAGTTTTCAAAGTCCAAAGAGCGCAGACTAGCCA...</td>\n",
       "      <td>CCCCCCCCCCCCCCCCCCCCCCCCCCCCCCCCCCCCCCCCCCCCCC...</td>\n",
       "      <td>C</td>\n",
       "      <td>TTTCAGTTCGCTAAGTTTTCAAAGTCCAAAGAGCGCAGACTAGCCA...</td>\n",
       "    </tr>\n",
       "    <tr>\n",
       "      <th>3</th>\n",
       "      <td>TAA</td>\n",
       "      <td>EEE</td>\n",
       "      <td>E</td>\n",
       "      <td>TAA</td>\n",
       "    </tr>\n",
       "    <tr>\n",
       "      <th>4</th>\n",
       "      <td>AGGCAAAGAAAAAAGGGATCCGCCTCGAATCAAAACGTTCTTTCTT...</td>\n",
       "      <td>OOOOOOOOOOOOOOOOOOOOOOOOOOOOOOOOOOOOOOOOOOOOOO...</td>\n",
       "      <td>O</td>\n",
       "      <td>AGGCAAAGAAAAAAGGGATCCGCCTCGAATCAAAACGTTCTTTCTT...</td>\n",
       "    </tr>\n",
       "  </tbody>\n",
       "</table>\n",
       "</div>"
      ],
      "text/plain": [
       "                                               index  \\\n",
       "0  GGATCCGTTCGAAACAGGTTAGCCTACTATAATATAAGGATTGGAT...   \n",
       "1                                                ATG   \n",
       "2  TTTCAGTTCGCTAAGTTTTCAAAGTCCAAAGAGCGCAGACTAGCCA...   \n",
       "3                                                TAA   \n",
       "4  AGGCAAAGAAAAAAGGGATCCGCCTCGAATCAAAACGTTCTTTCTT...   \n",
       "\n",
       "                                                   0 encoding  \\\n",
       "0  OOOOOOOOOOOOOOOOOOOOOOOOOOOOOOOOOOOOOOOOOOOOOO...        O   \n",
       "1                                                SSS        S   \n",
       "2  CCCCCCCCCCCCCCCCCCCCCCCCCCCCCCCCCCCCCCCCCCCCCC...        C   \n",
       "3                                                EEE        E   \n",
       "4  OOOOOOOOOOOOOOOOOOOOOOOOOOOOOOOOOOOOOOOOOOOOOO...        O   \n",
       "\n",
       "                                    genomic_sequence  \n",
       "0  GGATCCGTTCGAAACAGGTTAGCCTACTATAATATAAGGATTGGAT...  \n",
       "1                                                ATG  \n",
       "2  TTTCAGTTCGCTAAGTTTTCAAAGTCCAAAGAGCGCAGACTAGCCA...  \n",
       "3                                                TAA  \n",
       "4  AGGCAAAGAAAAAAGGGATCCGCCTCGAATCAAAACGTTCTTTCTT...  "
      ]
     },
     "execution_count": 21,
     "metadata": {},
     "output_type": "execute_result"
    }
   ],
   "source": [
    "word_df.head()"
   ]
  },
  {
   "cell_type": "code",
   "execution_count": 22,
   "metadata": {},
   "outputs": [],
   "source": [
    "word_df = word_df.drop(0, 1)\n",
    "word_df = word_df.drop('index', 1)"
   ]
  },
  {
   "cell_type": "code",
   "execution_count": 23,
   "metadata": {},
   "outputs": [
    {
     "data": {
      "text/html": [
       "<div>\n",
       "<style scoped>\n",
       "    .dataframe tbody tr th:only-of-type {\n",
       "        vertical-align: middle;\n",
       "    }\n",
       "\n",
       "    .dataframe tbody tr th {\n",
       "        vertical-align: top;\n",
       "    }\n",
       "\n",
       "    .dataframe thead th {\n",
       "        text-align: right;\n",
       "    }\n",
       "</style>\n",
       "<table border=\"1\" class=\"dataframe\">\n",
       "  <thead>\n",
       "    <tr style=\"text-align: right;\">\n",
       "      <th></th>\n",
       "      <th>encoding</th>\n",
       "      <th>genomic_sequence</th>\n",
       "    </tr>\n",
       "  </thead>\n",
       "  <tbody>\n",
       "    <tr>\n",
       "      <th>0</th>\n",
       "      <td>O</td>\n",
       "      <td>GGATCCGTTCGAAACAGGTTAGCCTACTATAATATAAGGATTGGAT...</td>\n",
       "    </tr>\n",
       "    <tr>\n",
       "      <th>1</th>\n",
       "      <td>S</td>\n",
       "      <td>ATG</td>\n",
       "    </tr>\n",
       "    <tr>\n",
       "      <th>2</th>\n",
       "      <td>C</td>\n",
       "      <td>TTTCAGTTCGCTAAGTTTTCAAAGTCCAAAGAGCGCAGACTAGCCA...</td>\n",
       "    </tr>\n",
       "    <tr>\n",
       "      <th>3</th>\n",
       "      <td>E</td>\n",
       "      <td>TAA</td>\n",
       "    </tr>\n",
       "    <tr>\n",
       "      <th>4</th>\n",
       "      <td>O</td>\n",
       "      <td>AGGCAAAGAAAAAAGGGATCCGCCTCGAATCAAAACGTTCTTTCTT...</td>\n",
       "    </tr>\n",
       "  </tbody>\n",
       "</table>\n",
       "</div>"
      ],
      "text/plain": [
       "  encoding                                   genomic_sequence\n",
       "0        O  GGATCCGTTCGAAACAGGTTAGCCTACTATAATATAAGGATTGGAT...\n",
       "1        S                                                ATG\n",
       "2        C  TTTCAGTTCGCTAAGTTTTCAAAGTCCAAAGAGCGCAGACTAGCCA...\n",
       "3        E                                                TAA\n",
       "4        O  AGGCAAAGAAAAAAGGGATCCGCCTCGAATCAAAACGTTCTTTCTT..."
      ]
     },
     "execution_count": 23,
     "metadata": {},
     "output_type": "execute_result"
    }
   ],
   "source": [
    "word_df.head()"
   ]
  },
  {
   "cell_type": "code",
   "execution_count": 25,
   "metadata": {},
   "outputs": [],
   "source": [
    "#save subset\n",
    "word_df.to_pickle(\"./data/word_df.pkl\")"
   ]
  },
  {
   "cell_type": "code",
   "execution_count": 26,
   "metadata": {},
   "outputs": [],
   "source": [
    "word_df=load_pickle('./data/word_df.pkl')    "
   ]
  },
  {
   "cell_type": "markdown",
   "metadata": {},
   "source": [
    "## sequence distribution"
   ]
  },
  {
   "cell_type": "code",
   "execution_count": 19,
   "metadata": {},
   "outputs": [
    {
     "data": {
      "text/html": [
       "<div>\n",
       "<style scoped>\n",
       "    .dataframe tbody tr th:only-of-type {\n",
       "        vertical-align: middle;\n",
       "    }\n",
       "\n",
       "    .dataframe tbody tr th {\n",
       "        vertical-align: top;\n",
       "    }\n",
       "\n",
       "    .dataframe thead th {\n",
       "        text-align: right;\n",
       "    }\n",
       "</style>\n",
       "<table border=\"1\" class=\"dataframe\">\n",
       "  <thead>\n",
       "    <tr style=\"text-align: right;\">\n",
       "      <th></th>\n",
       "      <th>genomic_sequence</th>\n",
       "    </tr>\n",
       "    <tr>\n",
       "      <th>encoding</th>\n",
       "      <th></th>\n",
       "    </tr>\n",
       "  </thead>\n",
       "  <tbody>\n",
       "    <tr>\n",
       "      <th>C</th>\n",
       "      <td>20580</td>\n",
       "    </tr>\n",
       "    <tr>\n",
       "      <th>E</th>\n",
       "      <td>3769</td>\n",
       "    </tr>\n",
       "    <tr>\n",
       "      <th>I</th>\n",
       "      <td>16852</td>\n",
       "    </tr>\n",
       "    <tr>\n",
       "      <th>J</th>\n",
       "      <td>33678</td>\n",
       "    </tr>\n",
       "    <tr>\n",
       "      <th>O</th>\n",
       "      <td>3752</td>\n",
       "    </tr>\n",
       "    <tr>\n",
       "      <th>S</th>\n",
       "      <td>3772</td>\n",
       "    </tr>\n",
       "  </tbody>\n",
       "</table>\n",
       "</div>"
      ],
      "text/plain": [
       "          genomic_sequence\n",
       "encoding                  \n",
       "C                    20580\n",
       "E                     3769\n",
       "I                    16852\n",
       "J                    33678\n",
       "O                     3752\n",
       "S                     3772"
      ]
     },
     "execution_count": 19,
     "metadata": {},
     "output_type": "execute_result"
    }
   ],
   "source": [
    "word_df.groupby('encoding').count()"
   ]
  },
  {
   "cell_type": "code",
   "execution_count": 30,
   "metadata": {},
   "outputs": [
    {
     "data": {
      "text/html": [
       "<div>\n",
       "<style scoped>\n",
       "    .dataframe tbody tr th:only-of-type {\n",
       "        vertical-align: middle;\n",
       "    }\n",
       "\n",
       "    .dataframe tbody tr th {\n",
       "        vertical-align: top;\n",
       "    }\n",
       "\n",
       "    .dataframe thead th {\n",
       "        text-align: right;\n",
       "    }\n",
       "</style>\n",
       "<table border=\"1\" class=\"dataframe\">\n",
       "  <thead>\n",
       "    <tr style=\"text-align: right;\">\n",
       "      <th></th>\n",
       "      <th>encoding</th>\n",
       "    </tr>\n",
       "    <tr>\n",
       "      <th>genomic_sequence</th>\n",
       "      <th></th>\n",
       "    </tr>\n",
       "  </thead>\n",
       "  <tbody>\n",
       "    <tr>\n",
       "      <th>A</th>\n",
       "      <td>2</td>\n",
       "    </tr>\n",
       "    <tr>\n",
       "      <th>AG</th>\n",
       "      <td>1</td>\n",
       "    </tr>\n",
       "    <tr>\n",
       "      <th>TAA</th>\n",
       "      <td>1469</td>\n",
       "    </tr>\n",
       "    <tr>\n",
       "      <th>TAG</th>\n",
       "      <td>890</td>\n",
       "    </tr>\n",
       "    <tr>\n",
       "      <th>TGA</th>\n",
       "      <td>1404</td>\n",
       "    </tr>\n",
       "    <tr>\n",
       "      <th>TTT</th>\n",
       "      <td>3</td>\n",
       "    </tr>\n",
       "  </tbody>\n",
       "</table>\n",
       "</div>"
      ],
      "text/plain": [
       "                  encoding\n",
       "genomic_sequence          \n",
       "A                        2\n",
       "AG                       1\n",
       "TAA                   1469\n",
       "TAG                    890\n",
       "TGA                   1404\n",
       "TTT                      3"
      ]
     },
     "execution_count": 30,
     "metadata": {},
     "output_type": "execute_result"
    }
   ],
   "source": [
    "#dataset is made by sequences obtained by randomly cutting the sequence so we migth have a remainder of codons\n",
    "#TODO delete them\n",
    "word_df[word_df['encoding']=='E'].groupby('genomic_sequence').count()"
   ]
  },
  {
   "cell_type": "code",
   "execution_count": 31,
   "metadata": {},
   "outputs": [
    {
     "data": {
      "text/html": [
       "<div>\n",
       "<style scoped>\n",
       "    .dataframe tbody tr th:only-of-type {\n",
       "        vertical-align: middle;\n",
       "    }\n",
       "\n",
       "    .dataframe tbody tr th {\n",
       "        vertical-align: top;\n",
       "    }\n",
       "\n",
       "    .dataframe thead th {\n",
       "        text-align: right;\n",
       "    }\n",
       "</style>\n",
       "<table border=\"1\" class=\"dataframe\">\n",
       "  <thead>\n",
       "    <tr style=\"text-align: right;\">\n",
       "      <th></th>\n",
       "      <th>encoding</th>\n",
       "    </tr>\n",
       "    <tr>\n",
       "      <th>genomic_sequence</th>\n",
       "      <th></th>\n",
       "    </tr>\n",
       "  </thead>\n",
       "  <tbody>\n",
       "    <tr>\n",
       "      <th>A</th>\n",
       "      <td>3</td>\n",
       "    </tr>\n",
       "    <tr>\n",
       "      <th>AT</th>\n",
       "      <td>1</td>\n",
       "    </tr>\n",
       "    <tr>\n",
       "      <th>ATG</th>\n",
       "      <td>3765</td>\n",
       "    </tr>\n",
       "    <tr>\n",
       "      <th>TTT</th>\n",
       "      <td>3</td>\n",
       "    </tr>\n",
       "  </tbody>\n",
       "</table>\n",
       "</div>"
      ],
      "text/plain": [
       "                  encoding\n",
       "genomic_sequence          \n",
       "A                        3\n",
       "AT                       1\n",
       "ATG                   3765\n",
       "TTT                      3"
      ]
     },
     "execution_count": 31,
     "metadata": {},
     "output_type": "execute_result"
    }
   ],
   "source": [
    "#dataset is made by sequences obtained by randomly cutting the large sequence so we can have some codons truncated\n",
    "# in the last part of the sequence as A, AT TODO delete them\n",
    "\n",
    "word_df[word_df['encoding']=='S'].groupby('genomic_sequence').count()"
   ]
  },
  {
   "cell_type": "code",
   "execution_count": null,
   "metadata": {},
   "outputs": [],
   "source": [
    "#check duplicates\n",
    "word_df.groupby('genomic_sequence')['genomic_sequence'].agg(count='count').sort_values('count', ascending=False)"
   ]
  },
  {
   "cell_type": "code",
   "execution_count": null,
   "metadata": {},
   "outputs": [],
   "source": [
    "word_df[word_df['genomic_sequence'].str.startswith('AT')] "
   ]
  },
  {
   "cell_type": "code",
   "execution_count": null,
   "metadata": {},
   "outputs": [],
   "source": [
    "word_df[word_df['genomic_sequence'].str.endswith('AT')]"
   ]
  },
  {
   "cell_type": "code",
   "execution_count": 28,
   "metadata": {},
   "outputs": [
    {
     "data": {
      "text/html": [
       "<div>\n",
       "<style scoped>\n",
       "    .dataframe tbody tr th:only-of-type {\n",
       "        vertical-align: middle;\n",
       "    }\n",
       "\n",
       "    .dataframe tbody tr th {\n",
       "        vertical-align: top;\n",
       "    }\n",
       "\n",
       "    .dataframe thead th {\n",
       "        text-align: right;\n",
       "    }\n",
       "</style>\n",
       "<table border=\"1\" class=\"dataframe\">\n",
       "  <thead>\n",
       "    <tr style=\"text-align: right;\">\n",
       "      <th></th>\n",
       "      <th>encoding</th>\n",
       "      <th>genomic_sequence</th>\n",
       "      <th>sequence_len</th>\n",
       "    </tr>\n",
       "  </thead>\n",
       "  <tbody>\n",
       "    <tr>\n",
       "      <th>0</th>\n",
       "      <td>O</td>\n",
       "      <td>GGATCCGTTCGAAACAGGTTAGCCTACTATAATATAAGGATTGGAT...</td>\n",
       "      <td>11917</td>\n",
       "    </tr>\n",
       "    <tr>\n",
       "      <th>1</th>\n",
       "      <td>S</td>\n",
       "      <td>ATG</td>\n",
       "      <td>3</td>\n",
       "    </tr>\n",
       "    <tr>\n",
       "      <th>2</th>\n",
       "      <td>C</td>\n",
       "      <td>TTTCAGTTCGCTAAGTTTTCAAAGTCCAAAGAGCGCAGACTAGCCA...</td>\n",
       "      <td>318</td>\n",
       "    </tr>\n",
       "    <tr>\n",
       "      <th>3</th>\n",
       "      <td>E</td>\n",
       "      <td>TAA</td>\n",
       "      <td>3</td>\n",
       "    </tr>\n",
       "    <tr>\n",
       "      <th>4</th>\n",
       "      <td>O</td>\n",
       "      <td>AGGCAAAGAAAAAAGGGATCCGCCTCGAATCAAAACGTTCTTTCTT...</td>\n",
       "      <td>4614</td>\n",
       "    </tr>\n",
       "  </tbody>\n",
       "</table>\n",
       "</div>"
      ],
      "text/plain": [
       "  encoding                                   genomic_sequence  sequence_len\n",
       "0        O  GGATCCGTTCGAAACAGGTTAGCCTACTATAATATAAGGATTGGAT...         11917\n",
       "1        S                                                ATG             3\n",
       "2        C  TTTCAGTTCGCTAAGTTTTCAAAGTCCAAAGAGCGCAGACTAGCCA...           318\n",
       "3        E                                                TAA             3\n",
       "4        O  AGGCAAAGAAAAAAGGGATCCGCCTCGAATCAAAACGTTCTTTCTT...          4614"
      ]
     },
     "execution_count": 28,
     "metadata": {},
     "output_type": "execute_result"
    }
   ],
   "source": [
    "word_df['sequence_len']=word_df['genomic_sequence'].astype(str).apply(len)\n",
    "word_df.head()"
   ]
  },
  {
   "cell_type": "code",
   "execution_count": 29,
   "metadata": {},
   "outputs": [
    {
     "data": {
      "text/html": [
       "<div>\n",
       "<style scoped>\n",
       "    .dataframe tbody tr th:only-of-type {\n",
       "        vertical-align: middle;\n",
       "    }\n",
       "\n",
       "    .dataframe tbody tr th {\n",
       "        vertical-align: top;\n",
       "    }\n",
       "\n",
       "    .dataframe thead th {\n",
       "        text-align: right;\n",
       "    }\n",
       "</style>\n",
       "<table border=\"1\" class=\"dataframe\">\n",
       "  <thead>\n",
       "    <tr style=\"text-align: right;\">\n",
       "      <th></th>\n",
       "      <th>encoding</th>\n",
       "      <th>seq_sum</th>\n",
       "    </tr>\n",
       "  </thead>\n",
       "  <tbody>\n",
       "    <tr>\n",
       "      <th>0</th>\n",
       "      <td>O</td>\n",
       "      <td>955695241</td>\n",
       "    </tr>\n",
       "    <tr>\n",
       "      <th>1</th>\n",
       "      <td>C</td>\n",
       "      <td>68618635</td>\n",
       "    </tr>\n",
       "    <tr>\n",
       "      <th>2</th>\n",
       "      <td>I</td>\n",
       "      <td>65955144</td>\n",
       "    </tr>\n",
       "    <tr>\n",
       "      <th>3</th>\n",
       "      <td>J</td>\n",
       "      <td>1404241</td>\n",
       "    </tr>\n",
       "    <tr>\n",
       "      <th>4</th>\n",
       "      <td>S</td>\n",
       "      <td>163382</td>\n",
       "    </tr>\n",
       "    <tr>\n",
       "      <th>5</th>\n",
       "      <td>E</td>\n",
       "      <td>163357</td>\n",
       "    </tr>\n",
       "  </tbody>\n",
       "</table>\n",
       "</div>"
      ],
      "text/plain": [
       "  encoding    seq_sum\n",
       "0        O  955695241\n",
       "1        C   68618635\n",
       "2        I   65955144\n",
       "3        J    1404241\n",
       "4        S     163382\n",
       "5        E     163357"
      ]
     },
     "execution_count": 29,
     "metadata": {},
     "output_type": "execute_result"
    }
   ],
   "source": [
    "word_df.groupby(['encoding'])['sequence_len'].agg(seq_sum='sum').sort_values('seq_sum', ascending=False).reset_index()\n",
    "#dataset unbalnced for 6 classes--> 3 group? "
   ]
  },
  {
   "cell_type": "code",
   "execution_count": 30,
   "metadata": {},
   "outputs": [
    {
     "data": {
      "text/plain": [
       "encoding\n",
       "O    16928.742711\n",
       "I      281.597247\n",
       "C      238.211176\n",
       "J        3.000034\n",
       "E        2.999247\n",
       "S        2.998495\n",
       "Name: sequence_len, dtype: float64"
      ]
     },
     "execution_count": 30,
     "metadata": {},
     "output_type": "execute_result"
    }
   ],
   "source": [
    "word_df.groupby(['encoding'])['sequence_len'].mean().sort_values( ascending=False)"
   ]
  },
  {
   "cell_type": "code",
   "execution_count": 31,
   "metadata": {},
   "outputs": [
    {
     "data": {
      "text/plain": [
       "count    1.155759e+06\n",
       "mean     9.448337e+02\n",
       "std      1.538325e+04\n",
       "min      1.000000e+00\n",
       "25%      3.000000e+00\n",
       "50%      7.000000e+00\n",
       "75%      1.340000e+02\n",
       "max      5.000000e+05\n",
       "Name: sequence_len, dtype: float64"
      ]
     },
     "execution_count": 31,
     "metadata": {},
     "output_type": "execute_result"
    }
   ],
   "source": [
    "word_df['sequence_len'].describe()"
   ]
  },
  {
   "cell_type": "code",
   "execution_count": 32,
   "metadata": {},
   "outputs": [
    {
     "data": {
      "text/plain": [
       "[Text(0, 0, 'O'),\n",
       " Text(1, 0, 'S'),\n",
       " Text(2, 0, 'C'),\n",
       " Text(3, 0, 'E'),\n",
       " Text(4, 0, 'J'),\n",
       " Text(5, 0, 'I')]"
      ]
     },
     "execution_count": 32,
     "metadata": {},
     "output_type": "execute_result"
    },
    {
     "data": {
      "image/png": "[encoded data removed]",
      "text/plain": [
       "<Figure size 432x288 with 1 Axes>"
      ]
     },
     "metadata": {},
     "output_type": "display_data"
    }
   ],
   "source": [
    "import seaborn as sns\n",
    "sns.set(style=\"whitegrid\")\n",
    "\n",
    "g=sns.boxplot(x=\"encoding\",y=\"sequence_len\", data=word_df)\n",
    "g.set_xticklabels(g.get_xticklabels(), rotation=90)\n",
    "#sns.set(rc={'figure.figsize':(30,8)})"
   ]
  },
  {
   "cell_type": "code",
   "execution_count": 33,
   "metadata": {},
   "outputs": [
    {
     "data": {
      "text/plain": [
       "{'cag': 169342,\n",
       " 'gta': 143663,\n",
       " 'tag': 62949,\n",
       " 'atg': 54401,\n",
       " 'gtg': 45710,\n",
       " 'gtt': 35583,\n",
       " 'taa': 22746,\n",
       " 'tga': 20127,\n",
       " 'aag': 12108,\n",
       " 'gtc': 6912}"
      ]
     },
     "execution_count": 33,
     "metadata": {},
     "output_type": "execute_result"
    }
   ],
   "source": [
    "#most frequent sequences\n",
    "df_4=pd.Series(' '.join(word_df['genomic_sequence'].astype(str)).lower().split()).value_counts()[:10]\n",
    "df_4.to_dict()"
   ]
  },
  {
   "cell_type": "markdown",
   "metadata": {},
   "source": [
    "### Sequence-Tf idf"
   ]
  },
  {
   "cell_type": "code",
   "execution_count": 39,
   "metadata": {},
   "outputs": [
    {
     "data": {
      "text/plain": [
       "TfidfVectorizer()"
      ]
     },
     "execution_count": 39,
     "metadata": {},
     "output_type": "execute_result"
    }
   ],
   "source": [
    "v=TfidfVectorizer(ngram_range=(1, 1))\n",
    "v"
   ]
  },
  {
   "cell_type": "code",
   "execution_count": 62,
   "metadata": {},
   "outputs": [
    {
     "name": "stdout",
     "output_type": "stream",
     "text": [
      "J 468075\n",
      "E 54466\n",
      "S 54488\n",
      "I 234218\n",
      "O 56454\n",
      "C 288058\n"
     ]
    }
   ],
   "source": [
    "labels=list(itertools.chain.from_iterable(set(word_df['encoding'])))\n",
    "seq_by_encoding=[]\n",
    "# join all the words related to the same class and consider them as corpus where apply tfidfvectorizer\n",
    "for idx, i in enumerate(list(itertools.chain.from_iterable(set(word_df['encoding'])))):\n",
    "    selected_seq=[x for x in word_df[word_df['encoding']==i]['genomic_sequence'].tolist()]\n",
    "    seq_by_encoding.append(\" \".join(selected_seq))\n",
    "    print(i, len(selected_seq))"
   ]
  },
  {
   "cell_type": "code",
   "execution_count": 63,
   "metadata": {},
   "outputs": [
    {
     "data": {
      "text/plain": [
       "(6, 310318)"
      ]
     },
     "execution_count": 63,
     "metadata": {},
     "output_type": "execute_result"
    }
   ],
   "source": [
    "Xtr = v.fit_transform(seq_by_encoding)\n",
    "features = v.get_feature_names()\n",
    "Xtr.shape"
   ]
  },
  {
   "cell_type": "code",
   "execution_count": 67,
   "metadata": {},
   "outputs": [
    {
     "data": {
      "text/html": [
       "<div>\n",
       "<style scoped>\n",
       "    .dataframe tbody tr th:only-of-type {\n",
       "        vertical-align: middle;\n",
       "    }\n",
       "\n",
       "    .dataframe tbody tr th {\n",
       "        vertical-align: top;\n",
       "    }\n",
       "\n",
       "    .dataframe thead th {\n",
       "        text-align: right;\n",
       "    }\n",
       "</style>\n",
       "<table border=\"1\" class=\"dataframe\">\n",
       "  <thead>\n",
       "    <tr style=\"text-align: right;\">\n",
       "      <th></th>\n",
       "      <th>encoding</th>\n",
       "      <th>tfidf</th>\n",
       "      <th>scores</th>\n",
       "    </tr>\n",
       "  </thead>\n",
       "  <tbody>\n",
       "    <tr>\n",
       "      <th>0</th>\n",
       "      <td>J</td>\n",
       "      <td>[cag, gta, tag, gtg, gtt, aag, gtc, gca, gag, ...</td>\n",
       "      <td>[0.7146265601414943, 0.6062952002391023, 0.216...</td>\n",
       "    </tr>\n",
       "    <tr>\n",
       "      <th>1</th>\n",
       "      <td>E</td>\n",
       "      <td>[taa, tga, tag, ttt, aa, ga, ta, ag, agttttcaa...</td>\n",
       "      <td>[0.6997309450108599, 0.6194617126935443, 0.355...</td>\n",
       "    </tr>\n",
       "    <tr>\n",
       "      <th>2</th>\n",
       "      <td>S</td>\n",
       "      <td>[atg, at, ttt, agttttcaagatgctctatgttatcacaaag...</td>\n",
       "      <td>[0.9999994117865821, 0.0009146549000522079, 0....</td>\n",
       "    </tr>\n",
       "    <tr>\n",
       "      <th>3</th>\n",
       "      <td>I</td>\n",
       "      <td>[attgtgacttcaatattataaattagcagtcatatagttacatgt...</td>\n",
       "      <td>[0.038424655333045905, 0.02955742717926608, 0....</td>\n",
       "    </tr>\n",
       "    <tr>\n",
       "      <th>4</th>\n",
       "      <td>O</td>\n",
       "      <td>[cagcaacaacagtacaatgagagctccatattaaatgaaagggtt...</td>\n",
       "      <td>[0.03701299607067426, 0.030844163392228546, 0....</td>\n",
       "    </tr>\n",
       "    <tr>\n",
       "      <th>5</th>\n",
       "      <td>C</td>\n",
       "      <td>[ag, tctggacgtggaaaaggtggcaaagtgaagggaaaggcaaa...</td>\n",
       "      <td>[0.03923132966543958, 0.038539590545537725, 0....</td>\n",
       "    </tr>\n",
       "  </tbody>\n",
       "</table>\n",
       "</div>"
      ],
      "text/plain": [
       "  encoding                                              tfidf  \\\n",
       "0        J  [cag, gta, tag, gtg, gtt, aag, gtc, gca, gag, ...   \n",
       "1        E  [taa, tga, tag, ttt, aa, ga, ta, ag, agttttcaa...   \n",
       "2        S  [atg, at, ttt, agttttcaagatgctctatgttatcacaaag...   \n",
       "3        I  [attgtgacttcaatattataaattagcagtcatatagttacatgt...   \n",
       "4        O  [cagcaacaacagtacaatgagagctccatattaaatgaaagggtt...   \n",
       "5        C  [ag, tctggacgtggaaaaggtggcaaagtgaagggaaaggcaaa...   \n",
       "\n",
       "                                              scores  \n",
       "0  [0.7146265601414943, 0.6062952002391023, 0.216...  \n",
       "1  [0.6997309450108599, 0.6194617126935443, 0.355...  \n",
       "2  [0.9999994117865821, 0.0009146549000522079, 0....  \n",
       "3  [0.038424655333045905, 0.02955742717926608, 0....  \n",
       "4  [0.03701299607067426, 0.030844163392228546, 0....  \n",
       "5  [0.03923132966543958, 0.038539590545537725, 0....  "
      ]
     },
     "execution_count": 67,
     "metadata": {},
     "output_type": "execute_result"
    }
   ],
   "source": [
    "#there some sequences that characterize the class (see E,J,S)\n",
    "get_tfidf(seq_by_encoding, Xtr, features)"
   ]
  },
  {
   "cell_type": "code",
   "execution_count": null,
   "metadata": {},
   "outputs": [],
   "source": [
    "word_df[word_df['genomic_sequence'].str.contains('TTG')]['encoding']"
   ]
  },
  {
   "cell_type": "markdown",
   "metadata": {},
   "source": [
    "### Sequence-PCA"
   ]
  },
  {
   "cell_type": "markdown",
   "metadata": {},
   "source": [
    "plot the classes in the vector space"
   ]
  },
  {
   "cell_type": "code",
   "execution_count": 43,
   "metadata": {},
   "outputs": [
    {
     "data": {
      "text/plain": [
       "(6, 2)"
      ]
     },
     "execution_count": 43,
     "metadata": {},
     "output_type": "execute_result"
    }
   ],
   "source": [
    "Xtr_embedded = PCA(n_components=2).fit_transform(Xtr.todense())\n",
    "Xtr_embedded.shape"
   ]
  },
  {
   "cell_type": "code",
   "execution_count": 45,
   "metadata": {},
   "outputs": [
    {
     "data": {
      "image/png": "[encoded data removed]",
      "text/plain": [
       "<Figure size 360x360 with 1 Axes>"
      ]
     },
     "metadata": {},
     "output_type": "display_data"
    }
   ],
   "source": [
    "plot_PCA(Xtr_embedded)"
   ]
  },
  {
   "cell_type": "markdown",
   "metadata": {},
   "source": [
    "### Sequence-Cosine similarity"
   ]
  },
  {
   "cell_type": "code",
   "execution_count": 50,
   "metadata": {},
   "outputs": [
    {
     "data": {
      "text/html": [
       "<div>\n",
       "<style scoped>\n",
       "    .dataframe tbody tr th:only-of-type {\n",
       "        vertical-align: middle;\n",
       "    }\n",
       "\n",
       "    .dataframe tbody tr th {\n",
       "        vertical-align: top;\n",
       "    }\n",
       "\n",
       "    .dataframe thead th {\n",
       "        text-align: right;\n",
       "    }\n",
       "</style>\n",
       "<table border=\"1\" class=\"dataframe\">\n",
       "  <thead>\n",
       "    <tr style=\"text-align: right;\">\n",
       "      <th></th>\n",
       "      <th>labels</th>\n",
       "      <th>score</th>\n",
       "    </tr>\n",
       "  </thead>\n",
       "  <tbody>\n",
       "    <tr>\n",
       "      <th>0</th>\n",
       "      <td>J|J</td>\n",
       "      <td>1.000000e+00</td>\n",
       "    </tr>\n",
       "    <tr>\n",
       "      <th>1</th>\n",
       "      <td>J|E</td>\n",
       "      <td>7.726340e-02</td>\n",
       "    </tr>\n",
       "    <tr>\n",
       "      <th>2</th>\n",
       "      <td>J|S</td>\n",
       "      <td>1.793822e-05</td>\n",
       "    </tr>\n",
       "    <tr>\n",
       "      <th>3</th>\n",
       "      <td>J|I</td>\n",
       "      <td>0.000000e+00</td>\n",
       "    </tr>\n",
       "    <tr>\n",
       "      <th>4</th>\n",
       "      <td>J|O</td>\n",
       "      <td>2.134861e-08</td>\n",
       "    </tr>\n",
       "    <tr>\n",
       "      <th>5</th>\n",
       "      <td>J|C</td>\n",
       "      <td>1.343828e-02</td>\n",
       "    </tr>\n",
       "    <tr>\n",
       "      <th>6</th>\n",
       "      <td>E|J</td>\n",
       "      <td>7.726340e-02</td>\n",
       "    </tr>\n",
       "    <tr>\n",
       "      <th>7</th>\n",
       "      <td>E|E</td>\n",
       "      <td>1.000000e+00</td>\n",
       "    </tr>\n",
       "    <tr>\n",
       "      <th>8</th>\n",
       "      <td>E|S</td>\n",
       "      <td>4.674835e-07</td>\n",
       "    </tr>\n",
       "    <tr>\n",
       "      <th>9</th>\n",
       "      <td>E|I</td>\n",
       "      <td>0.000000e+00</td>\n",
       "    </tr>\n",
       "    <tr>\n",
       "      <th>10</th>\n",
       "      <td>E|O</td>\n",
       "      <td>6.230064e-07</td>\n",
       "    </tr>\n",
       "    <tr>\n",
       "      <th>11</th>\n",
       "      <td>E|C</td>\n",
       "      <td>4.351423e-06</td>\n",
       "    </tr>\n",
       "    <tr>\n",
       "      <th>12</th>\n",
       "      <td>S|J</td>\n",
       "      <td>1.793822e-05</td>\n",
       "    </tr>\n",
       "    <tr>\n",
       "      <th>13</th>\n",
       "      <td>S|E</td>\n",
       "      <td>4.674835e-07</td>\n",
       "    </tr>\n",
       "    <tr>\n",
       "      <th>14</th>\n",
       "      <td>S|S</td>\n",
       "      <td>1.000000e+00</td>\n",
       "    </tr>\n",
       "    <tr>\n",
       "      <th>15</th>\n",
       "      <td>S|I</td>\n",
       "      <td>0.000000e+00</td>\n",
       "    </tr>\n",
       "    <tr>\n",
       "      <th>16</th>\n",
       "      <td>S|O</td>\n",
       "      <td>0.000000e+00</td>\n",
       "    </tr>\n",
       "    <tr>\n",
       "      <th>17</th>\n",
       "      <td>S|C</td>\n",
       "      <td>6.445249e-03</td>\n",
       "    </tr>\n",
       "    <tr>\n",
       "      <th>18</th>\n",
       "      <td>I|J</td>\n",
       "      <td>0.000000e+00</td>\n",
       "    </tr>\n",
       "    <tr>\n",
       "      <th>19</th>\n",
       "      <td>I|E</td>\n",
       "      <td>0.000000e+00</td>\n",
       "    </tr>\n",
       "    <tr>\n",
       "      <th>20</th>\n",
       "      <td>I|S</td>\n",
       "      <td>0.000000e+00</td>\n",
       "    </tr>\n",
       "    <tr>\n",
       "      <th>21</th>\n",
       "      <td>I|I</td>\n",
       "      <td>1.000000e+00</td>\n",
       "    </tr>\n",
       "    <tr>\n",
       "      <th>22</th>\n",
       "      <td>I|O</td>\n",
       "      <td>0.000000e+00</td>\n",
       "    </tr>\n",
       "    <tr>\n",
       "      <th>23</th>\n",
       "      <td>I|C</td>\n",
       "      <td>1.056522e-05</td>\n",
       "    </tr>\n",
       "    <tr>\n",
       "      <th>24</th>\n",
       "      <td>O|J</td>\n",
       "      <td>2.134861e-08</td>\n",
       "    </tr>\n",
       "    <tr>\n",
       "      <th>25</th>\n",
       "      <td>O|E</td>\n",
       "      <td>6.230064e-07</td>\n",
       "    </tr>\n",
       "    <tr>\n",
       "      <th>26</th>\n",
       "      <td>O|S</td>\n",
       "      <td>0.000000e+00</td>\n",
       "    </tr>\n",
       "    <tr>\n",
       "      <th>27</th>\n",
       "      <td>O|I</td>\n",
       "      <td>0.000000e+00</td>\n",
       "    </tr>\n",
       "    <tr>\n",
       "      <th>28</th>\n",
       "      <td>O|O</td>\n",
       "      <td>1.000000e+00</td>\n",
       "    </tr>\n",
       "    <tr>\n",
       "      <th>29</th>\n",
       "      <td>O|C</td>\n",
       "      <td>3.031919e-05</td>\n",
       "    </tr>\n",
       "    <tr>\n",
       "      <th>30</th>\n",
       "      <td>C|J</td>\n",
       "      <td>1.343828e-02</td>\n",
       "    </tr>\n",
       "    <tr>\n",
       "      <th>31</th>\n",
       "      <td>C|E</td>\n",
       "      <td>4.351423e-06</td>\n",
       "    </tr>\n",
       "    <tr>\n",
       "      <th>32</th>\n",
       "      <td>C|S</td>\n",
       "      <td>6.445249e-03</td>\n",
       "    </tr>\n",
       "    <tr>\n",
       "      <th>33</th>\n",
       "      <td>C|I</td>\n",
       "      <td>1.056522e-05</td>\n",
       "    </tr>\n",
       "    <tr>\n",
       "      <th>34</th>\n",
       "      <td>C|O</td>\n",
       "      <td>3.031919e-05</td>\n",
       "    </tr>\n",
       "    <tr>\n",
       "      <th>35</th>\n",
       "      <td>C|C</td>\n",
       "      <td>1.000000e+00</td>\n",
       "    </tr>\n",
       "  </tbody>\n",
       "</table>\n",
       "</div>"
      ],
      "text/plain": [
       "   labels         score\n",
       "0     J|J  1.000000e+00\n",
       "1     J|E  7.726340e-02\n",
       "2     J|S  1.793822e-05\n",
       "3     J|I  0.000000e+00\n",
       "4     J|O  2.134861e-08\n",
       "5     J|C  1.343828e-02\n",
       "6     E|J  7.726340e-02\n",
       "7     E|E  1.000000e+00\n",
       "8     E|S  4.674835e-07\n",
       "9     E|I  0.000000e+00\n",
       "10    E|O  6.230064e-07\n",
       "11    E|C  4.351423e-06\n",
       "12    S|J  1.793822e-05\n",
       "13    S|E  4.674835e-07\n",
       "14    S|S  1.000000e+00\n",
       "15    S|I  0.000000e+00\n",
       "16    S|O  0.000000e+00\n",
       "17    S|C  6.445249e-03\n",
       "18    I|J  0.000000e+00\n",
       "19    I|E  0.000000e+00\n",
       "20    I|S  0.000000e+00\n",
       "21    I|I  1.000000e+00\n",
       "22    I|O  0.000000e+00\n",
       "23    I|C  1.056522e-05\n",
       "24    O|J  2.134861e-08\n",
       "25    O|E  6.230064e-07\n",
       "26    O|S  0.000000e+00\n",
       "27    O|I  0.000000e+00\n",
       "28    O|O  1.000000e+00\n",
       "29    O|C  3.031919e-05\n",
       "30    C|J  1.343828e-02\n",
       "31    C|E  4.351423e-06\n",
       "32    C|S  6.445249e-03\n",
       "33    C|I  1.056522e-05\n",
       "34    C|O  3.031919e-05\n",
       "35    C|C  1.000000e+00"
      ]
     },
     "execution_count": 50,
     "metadata": {},
     "output_type": "execute_result"
    }
   ],
   "source": [
    "cosine_similarity_preprocessing(seq_by_encoding,Xtr, word_df['encoding'])"
   ]
  },
  {
   "cell_type": "markdown",
   "metadata": {},
   "source": [
    "## Cut the Sequence by a fixed length"
   ]
  },
  {
   "cell_type": "code",
   "execution_count": 51,
   "metadata": {},
   "outputs": [
    {
     "data": {
      "text/plain": [
       "count    1.155759e+06\n",
       "mean     9.448337e+02\n",
       "std      1.538325e+04\n",
       "min      1.000000e+00\n",
       "25%      3.000000e+00\n",
       "50%      7.000000e+00\n",
       "75%      1.340000e+02\n",
       "max      5.000000e+05\n",
       "Name: sequence_len, dtype: float64"
      ]
     },
     "execution_count": 51,
     "metadata": {},
     "output_type": "execute_result"
    }
   ],
   "source": [
    "word_df['sequence_len'].describe()"
   ]
  },
  {
   "cell_type": "code",
   "execution_count": 53,
   "metadata": {},
   "outputs": [],
   "source": [
    "word_df['sequence_splitted'] = word_df['genomic_sequence'].apply(lambda x: \",\".join(list(chunkstring(x, 3))).replace(',', ' '))"
   ]
  },
  {
   "cell_type": "code",
   "execution_count": 54,
   "metadata": {},
   "outputs": [
    {
     "data": {
      "text/html": [
       "<div>\n",
       "<style scoped>\n",
       "    .dataframe tbody tr th:only-of-type {\n",
       "        vertical-align: middle;\n",
       "    }\n",
       "\n",
       "    .dataframe tbody tr th {\n",
       "        vertical-align: top;\n",
       "    }\n",
       "\n",
       "    .dataframe thead th {\n",
       "        text-align: right;\n",
       "    }\n",
       "</style>\n",
       "<table border=\"1\" class=\"dataframe\">\n",
       "  <thead>\n",
       "    <tr style=\"text-align: right;\">\n",
       "      <th></th>\n",
       "      <th>encoding</th>\n",
       "      <th>genomic_sequence</th>\n",
       "      <th>sequence_len</th>\n",
       "      <th>sequence_splitted</th>\n",
       "    </tr>\n",
       "  </thead>\n",
       "  <tbody>\n",
       "    <tr>\n",
       "      <th>0</th>\n",
       "      <td>O</td>\n",
       "      <td>GGATCCGTTCGAAACAGGTTAGCCTACTATAATATAAGGATTGGAT...</td>\n",
       "      <td>11917</td>\n",
       "      <td>GGA TCC GTT CGA AAC AGG TTA GCC TAC TAT AAT AT...</td>\n",
       "    </tr>\n",
       "    <tr>\n",
       "      <th>1</th>\n",
       "      <td>S</td>\n",
       "      <td>ATG</td>\n",
       "      <td>3</td>\n",
       "      <td>ATG</td>\n",
       "    </tr>\n",
       "    <tr>\n",
       "      <th>2</th>\n",
       "      <td>C</td>\n",
       "      <td>TTTCAGTTCGCTAAGTTTTCAAAGTCCAAAGAGCGCAGACTAGCCA...</td>\n",
       "      <td>318</td>\n",
       "      <td>TTT CAG TTC GCT AAG TTT TCA AAG TCC AAA GAG CG...</td>\n",
       "    </tr>\n",
       "    <tr>\n",
       "      <th>3</th>\n",
       "      <td>E</td>\n",
       "      <td>TAA</td>\n",
       "      <td>3</td>\n",
       "      <td>TAA</td>\n",
       "    </tr>\n",
       "    <tr>\n",
       "      <th>4</th>\n",
       "      <td>O</td>\n",
       "      <td>AGGCAAAGAAAAAAGGGATCCGCCTCGAATCAAAACGTTCTTTCTT...</td>\n",
       "      <td>4614</td>\n",
       "      <td>AGG CAA AGA AAA AAG GGA TCC GCC TCG AAT CAA AA...</td>\n",
       "    </tr>\n",
       "  </tbody>\n",
       "</table>\n",
       "</div>"
      ],
      "text/plain": [
       "  encoding                                   genomic_sequence  sequence_len  \\\n",
       "0        O  GGATCCGTTCGAAACAGGTTAGCCTACTATAATATAAGGATTGGAT...         11917   \n",
       "1        S                                                ATG             3   \n",
       "2        C  TTTCAGTTCGCTAAGTTTTCAAAGTCCAAAGAGCGCAGACTAGCCA...           318   \n",
       "3        E                                                TAA             3   \n",
       "4        O  AGGCAAAGAAAAAAGGGATCCGCCTCGAATCAAAACGTTCTTTCTT...          4614   \n",
       "\n",
       "                                   sequence_splitted  \n",
       "0  GGA TCC GTT CGA AAC AGG TTA GCC TAC TAT AAT AT...  \n",
       "1                                                ATG  \n",
       "2  TTT CAG TTC GCT AAG TTT TCA AAG TCC AAA GAG CG...  \n",
       "3                                                TAA  \n",
       "4  AGG CAA AGA AAA AAG GGA TCC GCC TCG AAT CAA AA...  "
      ]
     },
     "execution_count": 54,
     "metadata": {},
     "output_type": "execute_result"
    }
   ],
   "source": [
    "word_df.head()"
   ]
  },
  {
   "cell_type": "code",
   "execution_count": null,
   "metadata": {},
   "outputs": [],
   "source": [
    "#check duplicates\n",
    "word_df.groupby('sequence_splitted')['sequence_splitted'].agg(count='count').sort_values('count', ascending=False)"
   ]
  },
  {
   "cell_type": "code",
   "execution_count": 55,
   "metadata": {},
   "outputs": [],
   "source": [
    "word_df['word_count'] = word_df['sequence_splitted'].apply(lambda x: len(str(x).split(' '))) "
   ]
  },
  {
   "cell_type": "code",
   "execution_count": 56,
   "metadata": {},
   "outputs": [
    {
     "data": {
      "text/html": [
       "<div>\n",
       "<style scoped>\n",
       "    .dataframe tbody tr th:only-of-type {\n",
       "        vertical-align: middle;\n",
       "    }\n",
       "\n",
       "    .dataframe tbody tr th {\n",
       "        vertical-align: top;\n",
       "    }\n",
       "\n",
       "    .dataframe thead th {\n",
       "        text-align: right;\n",
       "    }\n",
       "</style>\n",
       "<table border=\"1\" class=\"dataframe\">\n",
       "  <thead>\n",
       "    <tr style=\"text-align: right;\">\n",
       "      <th></th>\n",
       "      <th>encoding</th>\n",
       "      <th>genomic_sequence</th>\n",
       "      <th>sequence_len</th>\n",
       "      <th>sequence_splitted</th>\n",
       "      <th>word_count</th>\n",
       "      <th>vocabulary</th>\n",
       "    </tr>\n",
       "  </thead>\n",
       "  <tbody>\n",
       "    <tr>\n",
       "      <th>0</th>\n",
       "      <td>O</td>\n",
       "      <td>GGATCCGTTCGAAACAGGTTAGCCTACTATAATATAAGGATTGGAT...</td>\n",
       "      <td>11917</td>\n",
       "      <td>GGA TCC GTT CGA AAC AGG TTA GCC TAC TAT AAT AT...</td>\n",
       "      <td>3973</td>\n",
       "      <td>65</td>\n",
       "    </tr>\n",
       "    <tr>\n",
       "      <th>1</th>\n",
       "      <td>S</td>\n",
       "      <td>ATG</td>\n",
       "      <td>3</td>\n",
       "      <td>ATG</td>\n",
       "      <td>1</td>\n",
       "      <td>1</td>\n",
       "    </tr>\n",
       "    <tr>\n",
       "      <th>2</th>\n",
       "      <td>C</td>\n",
       "      <td>TTTCAGTTCGCTAAGTTTTCAAAGTCCAAAGAGCGCAGACTAGCCA...</td>\n",
       "      <td>318</td>\n",
       "      <td>TTT CAG TTC GCT AAG TTT TCA AAG TCC AAA GAG CG...</td>\n",
       "      <td>106</td>\n",
       "      <td>46</td>\n",
       "    </tr>\n",
       "    <tr>\n",
       "      <th>3</th>\n",
       "      <td>E</td>\n",
       "      <td>TAA</td>\n",
       "      <td>3</td>\n",
       "      <td>TAA</td>\n",
       "      <td>1</td>\n",
       "      <td>1</td>\n",
       "    </tr>\n",
       "    <tr>\n",
       "      <th>4</th>\n",
       "      <td>O</td>\n",
       "      <td>AGGCAAAGAAAAAAGGGATCCGCCTCGAATCAAAACGTTCTTTCTT...</td>\n",
       "      <td>4614</td>\n",
       "      <td>AGG CAA AGA AAA AAG GGA TCC GCC TCG AAT CAA AA...</td>\n",
       "      <td>1538</td>\n",
       "      <td>64</td>\n",
       "    </tr>\n",
       "    <tr>\n",
       "      <th>...</th>\n",
       "      <td>...</td>\n",
       "      <td>...</td>\n",
       "      <td>...</td>\n",
       "      <td>...</td>\n",
       "      <td>...</td>\n",
       "      <td>...</td>\n",
       "    </tr>\n",
       "    <tr>\n",
       "      <th>1155754</th>\n",
       "      <td>O</td>\n",
       "      <td>TAATTCAAAATGAAAAAATAATAAACATGGAAGGCATAGGCCAAGG...</td>\n",
       "      <td>500000</td>\n",
       "      <td>TAA TTC AAA ATG AAA AAA TAA TAA ACA TGG AAG GC...</td>\n",
       "      <td>166667</td>\n",
       "      <td>65</td>\n",
       "    </tr>\n",
       "    <tr>\n",
       "      <th>1155755</th>\n",
       "      <td>O</td>\n",
       "      <td>AATGGCAATCTAATTAGATTGAACAGTCGCTCGGTTATGAATGTCG...</td>\n",
       "      <td>500000</td>\n",
       "      <td>AAT GGC AAT CTA ATT AGA TTG AAC AGT CGC TCG GT...</td>\n",
       "      <td>166667</td>\n",
       "      <td>65</td>\n",
       "    </tr>\n",
       "    <tr>\n",
       "      <th>1155756</th>\n",
       "      <td>O</td>\n",
       "      <td>GACCAGTACGGGACCAGTACGGGACCGAGTATGGAACCGAGTACGG...</td>\n",
       "      <td>500000</td>\n",
       "      <td>GAC CAG TAC GGG ACC AGT ACG GGA CCG AGT ATG GA...</td>\n",
       "      <td>166667</td>\n",
       "      <td>26</td>\n",
       "    </tr>\n",
       "    <tr>\n",
       "      <th>1155757</th>\n",
       "      <td>O</td>\n",
       "      <td>TTGAACACAGTTTGATTGGAAATTTTATTACGAGCTCAGTGAGGTA...</td>\n",
       "      <td>500000</td>\n",
       "      <td>TTG AAC ACA GTT TGA TTG GAA ATT TTA TTA CGA GC...</td>\n",
       "      <td>166667</td>\n",
       "      <td>63</td>\n",
       "    </tr>\n",
       "    <tr>\n",
       "      <th>1155758</th>\n",
       "      <td>O</td>\n",
       "      <td>CGCACTCAGGTTGTCGCCATGCATAACCGTCGGGGTCTTCAGATCA...</td>\n",
       "      <td>500000</td>\n",
       "      <td>CGC ACT CAG GTT GTC GCC ATG CAT AAC CGT CGG GG...</td>\n",
       "      <td>166667</td>\n",
       "      <td>62</td>\n",
       "    </tr>\n",
       "  </tbody>\n",
       "</table>\n",
       "<p>1155759 rows × 6 columns</p>\n",
       "</div>"
      ],
      "text/plain": [
       "        encoding                                   genomic_sequence  \\\n",
       "0              O  GGATCCGTTCGAAACAGGTTAGCCTACTATAATATAAGGATTGGAT...   \n",
       "1              S                                                ATG   \n",
       "2              C  TTTCAGTTCGCTAAGTTTTCAAAGTCCAAAGAGCGCAGACTAGCCA...   \n",
       "3              E                                                TAA   \n",
       "4              O  AGGCAAAGAAAAAAGGGATCCGCCTCGAATCAAAACGTTCTTTCTT...   \n",
       "...          ...                                                ...   \n",
       "1155754        O  TAATTCAAAATGAAAAAATAATAAACATGGAAGGCATAGGCCAAGG...   \n",
       "1155755        O  AATGGCAATCTAATTAGATTGAACAGTCGCTCGGTTATGAATGTCG...   \n",
       "1155756        O  GACCAGTACGGGACCAGTACGGGACCGAGTATGGAACCGAGTACGG...   \n",
       "1155757        O  TTGAACACAGTTTGATTGGAAATTTTATTACGAGCTCAGTGAGGTA...   \n",
       "1155758        O  CGCACTCAGGTTGTCGCCATGCATAACCGTCGGGGTCTTCAGATCA...   \n",
       "\n",
       "         sequence_len                                  sequence_splitted  \\\n",
       "0               11917  GGA TCC GTT CGA AAC AGG TTA GCC TAC TAT AAT AT...   \n",
       "1                   3                                                ATG   \n",
       "2                 318  TTT CAG TTC GCT AAG TTT TCA AAG TCC AAA GAG CG...   \n",
       "3                   3                                                TAA   \n",
       "4                4614  AGG CAA AGA AAA AAG GGA TCC GCC TCG AAT CAA AA...   \n",
       "...               ...                                                ...   \n",
       "1155754        500000  TAA TTC AAA ATG AAA AAA TAA TAA ACA TGG AAG GC...   \n",
       "1155755        500000  AAT GGC AAT CTA ATT AGA TTG AAC AGT CGC TCG GT...   \n",
       "1155756        500000  GAC CAG TAC GGG ACC AGT ACG GGA CCG AGT ATG GA...   \n",
       "1155757        500000  TTG AAC ACA GTT TGA TTG GAA ATT TTA TTA CGA GC...   \n",
       "1155758        500000  CGC ACT CAG GTT GTC GCC ATG CAT AAC CGT CGG GG...   \n",
       "\n",
       "         word_count  vocabulary  \n",
       "0              3973          65  \n",
       "1                 1           1  \n",
       "2               106          46  \n",
       "3                 1           1  \n",
       "4              1538          64  \n",
       "...             ...         ...  \n",
       "1155754      166667          65  \n",
       "1155755      166667          65  \n",
       "1155756      166667          26  \n",
       "1155757      166667          63  \n",
       "1155758      166667          62  \n",
       "\n",
       "[1155759 rows x 6 columns]"
      ]
     },
     "execution_count": 56,
     "metadata": {},
     "output_type": "execute_result"
    }
   ],
   "source": [
    "word_df['vocabulary'] = word_df['sequence_splitted'].apply(lambda x: len(set(str(x).split(' '))))\n",
    "\n",
    "word_df"
   ]
  },
  {
   "cell_type": "code",
   "execution_count": 58,
   "metadata": {},
   "outputs": [
    {
     "data": {
      "text/html": [
       "<div>\n",
       "<style scoped>\n",
       "    .dataframe tbody tr th:only-of-type {\n",
       "        vertical-align: middle;\n",
       "    }\n",
       "\n",
       "    .dataframe tbody tr th {\n",
       "        vertical-align: top;\n",
       "    }\n",
       "\n",
       "    .dataframe thead th {\n",
       "        text-align: right;\n",
       "    }\n",
       "</style>\n",
       "<table border=\"1\" class=\"dataframe\">\n",
       "  <thead>\n",
       "    <tr style=\"text-align: right;\">\n",
       "      <th></th>\n",
       "      <th>encoding</th>\n",
       "      <th>genomic_sequence</th>\n",
       "      <th>sequence_len</th>\n",
       "      <th>sequence_splitted</th>\n",
       "      <th>word_count</th>\n",
       "      <th>vocabulary</th>\n",
       "      <th>lexical density</th>\n",
       "    </tr>\n",
       "  </thead>\n",
       "  <tbody>\n",
       "    <tr>\n",
       "      <th>0</th>\n",
       "      <td>O</td>\n",
       "      <td>GGATCCGTTCGAAACAGGTTAGCCTACTATAATATAAGGATTGGAT...</td>\n",
       "      <td>11917</td>\n",
       "      <td>GGA TCC GTT CGA AAC AGG TTA GCC TAC TAT AAT AT...</td>\n",
       "      <td>3973</td>\n",
       "      <td>65</td>\n",
       "      <td>0.016360</td>\n",
       "    </tr>\n",
       "    <tr>\n",
       "      <th>1</th>\n",
       "      <td>S</td>\n",
       "      <td>ATG</td>\n",
       "      <td>3</td>\n",
       "      <td>ATG</td>\n",
       "      <td>1</td>\n",
       "      <td>1</td>\n",
       "      <td>1.000000</td>\n",
       "    </tr>\n",
       "    <tr>\n",
       "      <th>2</th>\n",
       "      <td>C</td>\n",
       "      <td>TTTCAGTTCGCTAAGTTTTCAAAGTCCAAAGAGCGCAGACTAGCCA...</td>\n",
       "      <td>318</td>\n",
       "      <td>TTT CAG TTC GCT AAG TTT TCA AAG TCC AAA GAG CG...</td>\n",
       "      <td>106</td>\n",
       "      <td>46</td>\n",
       "      <td>0.433962</td>\n",
       "    </tr>\n",
       "    <tr>\n",
       "      <th>3</th>\n",
       "      <td>E</td>\n",
       "      <td>TAA</td>\n",
       "      <td>3</td>\n",
       "      <td>TAA</td>\n",
       "      <td>1</td>\n",
       "      <td>1</td>\n",
       "      <td>1.000000</td>\n",
       "    </tr>\n",
       "    <tr>\n",
       "      <th>4</th>\n",
       "      <td>O</td>\n",
       "      <td>AGGCAAAGAAAAAAGGGATCCGCCTCGAATCAAAACGTTCTTTCTT...</td>\n",
       "      <td>4614</td>\n",
       "      <td>AGG CAA AGA AAA AAG GGA TCC GCC TCG AAT CAA AA...</td>\n",
       "      <td>1538</td>\n",
       "      <td>64</td>\n",
       "      <td>0.041612</td>\n",
       "    </tr>\n",
       "  </tbody>\n",
       "</table>\n",
       "</div>"
      ],
      "text/plain": [
       "  encoding                                   genomic_sequence  sequence_len  \\\n",
       "0        O  GGATCCGTTCGAAACAGGTTAGCCTACTATAATATAAGGATTGGAT...         11917   \n",
       "1        S                                                ATG             3   \n",
       "2        C  TTTCAGTTCGCTAAGTTTTCAAAGTCCAAAGAGCGCAGACTAGCCA...           318   \n",
       "3        E                                                TAA             3   \n",
       "4        O  AGGCAAAGAAAAAAGGGATCCGCCTCGAATCAAAACGTTCTTTCTT...          4614   \n",
       "\n",
       "                                   sequence_splitted  word_count  vocabulary  \\\n",
       "0  GGA TCC GTT CGA AAC AGG TTA GCC TAC TAT AAT AT...        3973          65   \n",
       "1                                                ATG           1           1   \n",
       "2  TTT CAG TTC GCT AAG TTT TCA AAG TCC AAA GAG CG...         106          46   \n",
       "3                                                TAA           1           1   \n",
       "4  AGG CAA AGA AAA AAG GGA TCC GCC TCG AAT CAA AA...        1538          64   \n",
       "\n",
       "   lexical density  \n",
       "0         0.016360  \n",
       "1         1.000000  \n",
       "2         0.433962  \n",
       "3         1.000000  \n",
       "4         0.041612  "
      ]
     },
     "execution_count": 58,
     "metadata": {},
     "output_type": "execute_result"
    }
   ],
   "source": [
    "#lexical density measures how much eterogeneus is the vocabulary in each instance\n",
    "\n",
    "word_df['lexical density'] = word_df.apply(lexical_density, axis=1)\n",
    "word_df.head()"
   ]
  },
  {
   "cell_type": "code",
   "execution_count": 59,
   "metadata": {},
   "outputs": [
    {
     "data": {
      "text/html": [
       "<div>\n",
       "<style scoped>\n",
       "    .dataframe tbody tr th:only-of-type {\n",
       "        vertical-align: middle;\n",
       "    }\n",
       "\n",
       "    .dataframe tbody tr th {\n",
       "        vertical-align: top;\n",
       "    }\n",
       "\n",
       "    .dataframe thead th {\n",
       "        text-align: right;\n",
       "    }\n",
       "</style>\n",
       "<table border=\"1\" class=\"dataframe\">\n",
       "  <thead>\n",
       "    <tr style=\"text-align: right;\">\n",
       "      <th></th>\n",
       "      <th>encoding</th>\n",
       "      <th>word_sum</th>\n",
       "    </tr>\n",
       "  </thead>\n",
       "  <tbody>\n",
       "    <tr>\n",
       "      <th>0</th>\n",
       "      <td>O</td>\n",
       "      <td>318583849</td>\n",
       "    </tr>\n",
       "    <tr>\n",
       "      <th>1</th>\n",
       "      <td>C</td>\n",
       "      <td>22951442</td>\n",
       "    </tr>\n",
       "    <tr>\n",
       "      <th>2</th>\n",
       "      <td>I</td>\n",
       "      <td>22063548</td>\n",
       "    </tr>\n",
       "    <tr>\n",
       "      <th>3</th>\n",
       "      <td>J</td>\n",
       "      <td>468085</td>\n",
       "    </tr>\n",
       "    <tr>\n",
       "      <th>4</th>\n",
       "      <td>S</td>\n",
       "      <td>54488</td>\n",
       "    </tr>\n",
       "    <tr>\n",
       "      <th>5</th>\n",
       "      <td>E</td>\n",
       "      <td>54466</td>\n",
       "    </tr>\n",
       "  </tbody>\n",
       "</table>\n",
       "</div>"
      ],
      "text/plain": [
       "  encoding   word_sum\n",
       "0        O  318583849\n",
       "1        C   22951442\n",
       "2        I   22063548\n",
       "3        J     468085\n",
       "4        S      54488\n",
       "5        E      54466"
      ]
     },
     "execution_count": 59,
     "metadata": {},
     "output_type": "execute_result"
    }
   ],
   "source": [
    "word_df.groupby(['encoding'])['word_count'].agg(word_sum='sum').sort_values('word_sum', ascending=False).reset_index()"
   ]
  },
  {
   "cell_type": "code",
   "execution_count": 60,
   "metadata": {},
   "outputs": [
    {
     "data": {
      "text/html": [
       "<div>\n",
       "<style scoped>\n",
       "    .dataframe tbody tr th:only-of-type {\n",
       "        vertical-align: middle;\n",
       "    }\n",
       "\n",
       "    .dataframe tbody tr th {\n",
       "        vertical-align: top;\n",
       "    }\n",
       "\n",
       "    .dataframe thead th {\n",
       "        text-align: right;\n",
       "    }\n",
       "</style>\n",
       "<table border=\"1\" class=\"dataframe\">\n",
       "  <thead>\n",
       "    <tr style=\"text-align: right;\">\n",
       "      <th></th>\n",
       "      <th>encoding</th>\n",
       "      <th>word_mean</th>\n",
       "    </tr>\n",
       "  </thead>\n",
       "  <tbody>\n",
       "    <tr>\n",
       "      <th>0</th>\n",
       "      <td>O</td>\n",
       "      <td>5643.246696</td>\n",
       "    </tr>\n",
       "    <tr>\n",
       "      <th>1</th>\n",
       "      <td>I</td>\n",
       "      <td>94.200907</td>\n",
       "    </tr>\n",
       "    <tr>\n",
       "      <th>2</th>\n",
       "      <td>C</td>\n",
       "      <td>79.676461</td>\n",
       "    </tr>\n",
       "    <tr>\n",
       "      <th>3</th>\n",
       "      <td>J</td>\n",
       "      <td>1.000021</td>\n",
       "    </tr>\n",
       "    <tr>\n",
       "      <th>4</th>\n",
       "      <td>E</td>\n",
       "      <td>1.000000</td>\n",
       "    </tr>\n",
       "    <tr>\n",
       "      <th>5</th>\n",
       "      <td>S</td>\n",
       "      <td>1.000000</td>\n",
       "    </tr>\n",
       "  </tbody>\n",
       "</table>\n",
       "</div>"
      ],
      "text/plain": [
       "  encoding    word_mean\n",
       "0        O  5643.246696\n",
       "1        I    94.200907\n",
       "2        C    79.676461\n",
       "3        J     1.000021\n",
       "4        E     1.000000\n",
       "5        S     1.000000"
      ]
     },
     "execution_count": 60,
     "metadata": {},
     "output_type": "execute_result"
    }
   ],
   "source": [
    "word_df.groupby(['encoding'])['word_count'].agg(word_mean='mean').sort_values('word_mean', ascending=False).reset_index()"
   ]
  },
  {
   "cell_type": "code",
   "execution_count": null,
   "metadata": {},
   "outputs": [],
   "source": [
    "#most frequent sequences\n",
    "df_4=pd.Series(' '.join(word_df['sequence_splitted'].astype(str)).lower().split()).value_counts()[:10]\n",
    "df_4.to_dict()"
   ]
  },
  {
   "cell_type": "code",
   "execution_count": 77,
   "metadata": {},
   "outputs": [
    {
     "data": {
      "text/plain": [
       "['J', 'C', 'I', 'S', 'E', 'O']"
      ]
     },
     "execution_count": 77,
     "metadata": {},
     "output_type": "execute_result"
    }
   ],
   "source": [
    "list(word_df['encoding'].value_counts().index)"
   ]
  },
  {
   "cell_type": "code",
   "execution_count": 61,
   "metadata": {},
   "outputs": [
    {
     "name": "stdout",
     "output_type": "stream",
     "text": [
      "J 468075\n",
      "C 288058\n",
      "I 234218\n",
      "O 56454\n",
      "S 54488\n",
      "E 54466\n"
     ]
    }
   ],
   "source": [
    "#group classes?\n",
    "labels=list(itertools.chain.from_iterable(set(word_df['encoding'])))\n",
    "seq_by_encoding=[]\n",
    "for  i in list(word_df['encoding'].value_counts().index):\n",
    "    selected_seq=[x for x in word_df[word_df['encoding']==i]['sequence_splitted'].tolist() if x is not None]\n",
    "    seq_by_encoding.append(\" \".join(selected_seq))\n",
    "    print(i, len(selected_seq))"
   ]
  },
  {
   "cell_type": "code",
   "execution_count": 79,
   "metadata": {},
   "outputs": [
    {
     "data": {
      "text/plain": [
       "(6, 297605)"
      ]
     },
     "execution_count": 79,
     "metadata": {},
     "output_type": "execute_result"
    }
   ],
   "source": [
    "v = TfidfVectorizer(ngram_range=(1, 3))  #v=TfidfVectorizer(ngram_range=(1, 1))\n",
    "Xtr = v.fit_transform(seq_by_encoding)\n",
    "features = v.get_feature_names()\n",
    "Xtr.shape"
   ]
  },
  {
   "cell_type": "code",
   "execution_count": null,
   "metadata": {},
   "outputs": [],
   "source": [
    "get_tfidf(seq_by_encoding, Xtr, features)"
   ]
  },
  {
   "cell_type": "code",
   "execution_count": null,
   "metadata": {},
   "outputs": [],
   "source": [
    "Xtr_embedded = PCA(n_components=2).fit_transform(Xtr.todense())\n",
    "Xtr_embedded.shape\n",
    "plot_PCA(Xtr_embedded)"
   ]
  },
  {
   "cell_type": "code",
   "execution_count": 83,
   "metadata": {},
   "outputs": [],
   "source": [
    "#cosine similarity\n",
    "cosine_similarity_preprocessing(seq_by_encoding,Xtr, word_df['encoding'])\n"
   ]
  },
  {
   "cell_type": "markdown",
   "metadata": {},
   "source": [
    "### Unigrams, bigrams, trigrams"
   ]
  },
  {
   "cell_type": "code",
   "execution_count": null,
   "metadata": {},
   "outputs": [],
   "source": [
    "common_words = get_top_n_words(word_df['sequence_splitted'], 20, (1,1))\n",
    "for word, freq in common_words:\n",
    "    print(word, freq)"
   ]
  },
  {
   "cell_type": "code",
   "execution_count": null,
   "metadata": {},
   "outputs": [],
   "source": [
    "common_words = get_top_n_words(word_df['sequence_splitted'], 20, (2,2))\n",
    "for word, freq in common_words:\n",
    "    print(word, freq)"
   ]
  },
  {
   "cell_type": "code",
   "execution_count": null,
   "metadata": {},
   "outputs": [],
   "source": [
    "common_words = get_top_n_words(word_df['sequence_splitted'], 20, (3,3))\n",
    "for word, freq in common_words:\n",
    "    print(word, freq)"
   ]
  },
  {
   "cell_type": "markdown",
   "metadata": {},
   "source": [
    "## save/load word_df"
   ]
  },
  {
   "cell_type": "code",
   "execution_count": 68,
   "metadata": {},
   "outputs": [],
   "source": [
    "#save subset\n",
    "word_df.to_pickle(\"./data/word_df_metrics.pkl\")"
   ]
  },
  {
   "cell_type": "code",
   "execution_count": null,
   "metadata": {},
   "outputs": [],
   "source": [
    "word_df.to_csv('./data/word_df_data1.csv')\n",
    "word_df=pd.read_csv('./data/word_df_data1.csv')"
   ]
  },
  {
   "cell_type": "code",
   "execution_count": null,
   "metadata": {},
   "outputs": [],
   "source": [
    "\"\"\"\n",
    "TO DO: \n",
    "preprocessing\n",
    "cleaning less frequent words\n",
    "cut the sequence \n",
    "\"\"\""
   ]
  },
  {
   "cell_type": "code",
   "execution_count": null,
   "metadata": {},
   "outputs": [],
   "source": []
  }
 ],
 "metadata": {
  "kernelspec": {
   "display_name": "Python 3 (ipykernel)",
   "language": "python",
   "name": "python3"
  },
  "language_info": {
   "codemirror_mode": {
    "name": "ipython",
    "version": 3
   },
   "file_extension": ".py",
   "mimetype": "text/x-python",
   "name": "python",
   "nbconvert_exporter": "python",
   "pygments_lexer": "ipython3",
   "version": "3.9.6"
  }
 },
 "nbformat": 4,
 "nbformat_minor": 4
}
